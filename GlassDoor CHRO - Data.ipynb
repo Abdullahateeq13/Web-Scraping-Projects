{
 "cells": [
  {
   "cell_type": "markdown",
   "id": "53886dfa",
   "metadata": {},
   "source": [
    "# List of CHRO Position with their Salaries"
   ]
  },
  {
   "cell_type": "code",
   "execution_count": 14,
   "id": "a0ca9436",
   "metadata": {},
   "outputs": [],
   "source": [
    "# Website URL - GLASSDOOR.COM\n",
    "# 'https://www.glassdoor.co.in/profile/login_input.htm?userOriginHook=HEADER_SIGNIN_LINK'\n"
   ]
  },
  {
   "cell_type": "markdown",
   "id": "0fbfdde5",
   "metadata": {},
   "source": [
    "## Importing Libraries"
   ]
  },
  {
   "cell_type": "code",
   "execution_count": 5,
   "id": "7291c4fc",
   "metadata": {},
   "outputs": [],
   "source": [
    "# Import important libraries\n",
    "\n",
    "from selenium import webdriver\n",
    "from selenium.webdriver.common.by import By\n",
    "from selenium.webdriver.support.ui import WebDriverWait\n",
    "from selenium.webdriver.support import expected_conditions as EC\n",
    "from selenium.common.exceptions import ElementClickInterceptedException\n",
    "from selenium.webdriver.common.keys import Keys\n",
    "from selenium.common.exceptions import TimeoutException\n",
    "from selenium.common.exceptions import NoSuchElementException\n",
    "from selenium.webdriver.chrome.service import Service\n",
    "\n",
    "import time\n",
    "import pandas as pd"
   ]
  },
  {
   "cell_type": "code",
   "execution_count": 2,
   "id": "43da7e1a",
   "metadata": {},
   "outputs": [
    {
     "data": {
      "text/plain": [
       "'4.9.1'"
      ]
     },
     "execution_count": 2,
     "metadata": {},
     "output_type": "execute_result"
    }
   ],
   "source": [
    "import selenium\n",
    "selenium.__version__"
   ]
  },
  {
   "cell_type": "code",
   "execution_count": 9,
   "id": "07a0317a",
   "metadata": {},
   "outputs": [],
   "source": [
    "# Initialising Browser\n",
    "browser = webdriver.Chrome()\n",
    "\n",
    "# URL\n",
    "url_website = 'https://www.glassdoor.co.in/profile/login_input.htm?userOriginHook=HEADER_SIGNIN_LINK'\n",
    "\n",
    "source = browser.get(url_website)\n",
    "\n",
    "browser.maximize_window()\n",
    "\n",
    "\n",
    "# Credentials\n",
    "mail = \"24q2n@superblohey.com\"\n",
    "password = \"glassdoor@123\"\n",
    "\n",
    "# Login Page\n",
    "login_bar = browser.find_element(\"name\",\"username\")\n",
    "login_bar.send_keys(mail)\n",
    "time.sleep(1)\n",
    "\n",
    "next_btn = WebDriverWait(browser, 20).until(EC.element_to_be_clickable((By.XPATH,\"//span[text()='Continue with Email']\")))\n",
    "next_btn.click()\n",
    "time.sleep(5)\n",
    "\n",
    "pwd = browser.find_element(\"name\",\"password\")\n",
    "pwd.send_keys(password)                                               \n",
    "time.sleep(1)\n",
    "                                          \n",
    "next_btn = WebDriverWait(browser, 20).until(EC.element_to_be_clickable((By.XPATH,\"//span[text()='Sign In']\")))\n",
    "next_btn.click()\n",
    "time.sleep(2)\n",
    "\n",
    "\n",
    "# Salaries Page\n",
    "\n",
    "browser.get(\"https://www.glassdoor.co.in/Salaries/index.htm\")\n",
    "\n",
    "job_title = browser.find_element(\"xpath\",'//input[@name=\"typedKeyword\" and @placeholder=\"Your Job Title\"]')\n",
    "job_title.send_keys(\"CHRO\") \n",
    "\n",
    "\n",
    "search = WebDriverWait(browser, 30).until(EC.element_to_be_clickable((By.XPATH, '//*[@id=\"SrchHero\"]/div[1]/div/div/div/form/div/button/span')))\n",
    "search.click()                            \n",
    "time.sleep(2)"
   ]
  },
  {
   "cell_type": "code",
   "execution_count": 10,
   "id": "0e7ba2d7",
   "metadata": {},
   "outputs": [
    {
     "name": "stdout",
     "output_type": "stream",
     "text": [
      "clickable\n",
      "clickable\n"
     ]
    }
   ],
   "source": [
    "# List of keys\n",
    "comp = []\n",
    "sal = []\n",
    "month = []\n",
    "\n",
    "# initialize dictionary\n",
    "chro_dic = {\n",
    "    'Company': comp,\n",
    "    'Salary': sal,\n",
    "    'Monthly': month\n",
    "}\n",
    "\n",
    "while True:\n",
    "    company = browser.find_elements(\"xpath\",\"//a[@class='css-14gxptn e1aj7ssy3']\")\n",
    "    for elm in company:\n",
    "        chro_dic['Company'].append(elm.text)\n",
    "\n",
    "    salary = browser.find_elements(\"xpath\",\"//div[@class='d-flex align-items-baseline']//h3[@class='m-0 css-be8uqy el6ke056']\")\n",
    "    for elm in salary:\n",
    "        chro_dic['Salary'].append(elm.text)\n",
    "\n",
    "    monthly = browser.find_elements(\"xpath\",\"//div[@class='col-12 col-lg px-xsm']//span[@class='m-0 css-jiegi el6ke0510']\")\n",
    "    for elm in monthly:\n",
    "        chro_dic['Monthly'].append(elm.text)\n",
    "    time.sleep(5)\n",
    "    \n",
    "    try:\n",
    "        next_btn = WebDriverWait(browser, 30).until(EC.element_to_be_clickable((By.XPATH, \"//button[@aria-label='Next']\")))\n",
    "        next_btn.click()\n",
    "        print(\"clickable\")\n",
    "    except TimeoutException:\n",
    "        break"
   ]
  },
  {
   "cell_type": "markdown",
   "id": "71362f11",
   "metadata": {},
   "source": [
    "##### There are only two pages available on the website, so I scraped on two pages"
   ]
  },
  {
   "cell_type": "code",
   "execution_count": 11,
   "id": "3b1d7f92",
   "metadata": {},
   "outputs": [
    {
     "name": "stdout",
     "output_type": "stream",
     "text": [
      "{'Company': ['Infollion', 'Welspun Group', 'Zolo', 'Srijan Technologies', 'Shalby Hospitals', 'Gameskraft', 'Sdgc', 'Tata ClassEdge', 'ICA Edu Skills', 'GMR Delhi International Airport', 'DB Schenker', 'Universal Sompo General Insurance', 'Baazi Games', 'Vahdam Teas', 'Makaan com', 'Orient Bell', 'Indospirit', 'Taashee Linux Services', 'News Corp', 'Strivector', 'IT World Web.com Group of Brands', 'Firestar Diamond', 'Shipra Group', 'IndoSpace', 'Muvtons', 'Numero Uno Clothing', 'Utah Tech Labs', 'Sanjivani Credit Cooperative Society', 'BlackOpal (India)', 'Manjushree Ventures', 'ATP STAR', 'Chemaf S.A.R.L', 'Himatsingka Seide Limited'], 'Salary': ['₹1L -₹1L', '₹53L -₹58L', '₹99T -₹1L', '₹63L -₹67L', '₹6L -₹6L', '₹10L -₹10L', '₹32L -₹34L', '₹61L -₹66L', '₹40L -₹43L', '₹19L -₹21L', '₹63L -₹69L', '₹71L -₹78L', '₹97L -₹1Cr', '₹63L -₹68L', '₹1L -₹1L', '₹80L -₹88L', '₹39L -₹43L', '₹3L -₹3L', '₹2L -₹2L', '₹29L -₹31L', '₹26T -₹29T', '₹26L -₹29L', '₹66L -₹72L', '₹49L -₹53L', '₹57L -₹63L', '₹17L -₹19L', '₹5L -₹6L', '₹7L -₹8L', '₹24L -₹26L', '₹71L -₹76L', '₹10L -₹11L', '₹77L -₹83L', '₹2Cr -₹2Cr'], 'Monthly': ['CHRO - Monthly', 'CHRO', 'CHRO - Monthly', 'CHRO', 'CHRO - Monthly', 'CHRO', 'CHRO', 'CHRO', 'CHRO', 'CHRO', 'CHRO', 'CHRO', 'CHRO', 'CHRO', 'CHRO - Monthly', 'CHRO', 'CHRO', 'CHRO - Monthly', 'CHRO - Monthly', 'CHRO', 'CHRO - Monthly', 'CHRO', 'CHRO', 'CHRO', 'CHRO', 'CHRO', 'CHRO', 'CHRO', 'CHRO', 'CHRO', 'CHRO', 'CHRO', 'President Human Resources & Group CHRO']}\n"
     ]
    }
   ],
   "source": [
    "print(chro_dic)"
   ]
  },
  {
   "cell_type": "markdown",
   "id": "ad54b5c2",
   "metadata": {},
   "source": [
    "## Making DataFrame"
   ]
  },
  {
   "cell_type": "code",
   "execution_count": 12,
   "id": "3164eb4c",
   "metadata": {},
   "outputs": [
    {
     "data": {
      "text/html": [
       "<div>\n",
       "<style scoped>\n",
       "    .dataframe tbody tr th:only-of-type {\n",
       "        vertical-align: middle;\n",
       "    }\n",
       "\n",
       "    .dataframe tbody tr th {\n",
       "        vertical-align: top;\n",
       "    }\n",
       "\n",
       "    .dataframe thead th {\n",
       "        text-align: right;\n",
       "    }\n",
       "</style>\n",
       "<table border=\"1\" class=\"dataframe\">\n",
       "  <thead>\n",
       "    <tr style=\"text-align: right;\">\n",
       "      <th></th>\n",
       "      <th>Company</th>\n",
       "      <th>Salary</th>\n",
       "      <th>Monthly</th>\n",
       "    </tr>\n",
       "  </thead>\n",
       "  <tbody>\n",
       "    <tr>\n",
       "      <th>0</th>\n",
       "      <td>Infollion</td>\n",
       "      <td>₹1L -₹1L</td>\n",
       "      <td>CHRO - Monthly</td>\n",
       "    </tr>\n",
       "    <tr>\n",
       "      <th>1</th>\n",
       "      <td>Welspun Group</td>\n",
       "      <td>₹53L -₹58L</td>\n",
       "      <td>CHRO</td>\n",
       "    </tr>\n",
       "    <tr>\n",
       "      <th>2</th>\n",
       "      <td>Zolo</td>\n",
       "      <td>₹99T -₹1L</td>\n",
       "      <td>CHRO - Monthly</td>\n",
       "    </tr>\n",
       "    <tr>\n",
       "      <th>3</th>\n",
       "      <td>Srijan Technologies</td>\n",
       "      <td>₹63L -₹67L</td>\n",
       "      <td>CHRO</td>\n",
       "    </tr>\n",
       "    <tr>\n",
       "      <th>4</th>\n",
       "      <td>Shalby Hospitals</td>\n",
       "      <td>₹6L -₹6L</td>\n",
       "      <td>CHRO - Monthly</td>\n",
       "    </tr>\n",
       "  </tbody>\n",
       "</table>\n",
       "</div>"
      ],
      "text/plain": [
       "               Company      Salary         Monthly\n",
       "0            Infollion    ₹1L -₹1L  CHRO - Monthly\n",
       "1        Welspun Group  ₹53L -₹58L            CHRO\n",
       "2                 Zolo   ₹99T -₹1L  CHRO - Monthly\n",
       "3  Srijan Technologies  ₹63L -₹67L            CHRO\n",
       "4     Shalby Hospitals    ₹6L -₹6L  CHRO - Monthly"
      ]
     },
     "execution_count": 12,
     "metadata": {},
     "output_type": "execute_result"
    }
   ],
   "source": [
    "df = pd.DataFrame(chro_dic)\n",
    "df.head()"
   ]
  },
  {
   "cell_type": "markdown",
   "id": "be21a04c",
   "metadata": {},
   "source": [
    "# Importing to Excel Sheet"
   ]
  },
  {
   "cell_type": "code",
   "execution_count": 13,
   "id": "3e3e688b",
   "metadata": {},
   "outputs": [],
   "source": [
    "df.to_excel(\"CHRO-salary.xlsx\", index=False)"
   ]
  },
  {
   "cell_type": "code",
   "execution_count": null,
   "id": "e460e5b5",
   "metadata": {},
   "outputs": [],
   "source": []
  }
 ],
 "metadata": {
  "kernelspec": {
   "display_name": "Python 3 (ipykernel)",
   "language": "python",
   "name": "python3"
  },
  "language_info": {
   "codemirror_mode": {
    "name": "ipython",
    "version": 3
   },
   "file_extension": ".py",
   "mimetype": "text/x-python",
   "name": "python",
   "nbconvert_exporter": "python",
   "pygments_lexer": "ipython3",
   "version": "3.9.13"
  }
 },
 "nbformat": 4,
 "nbformat_minor": 5
}
