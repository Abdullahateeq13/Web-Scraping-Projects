{
 "cells": [
  {
   "cell_type": "code",
   "execution_count": 1,
   "id": "d5dc944c",
   "metadata": {},
   "outputs": [],
   "source": [
    "import requests\n",
    "from bs4 import BeautifulSoup\n",
    "import pandas as pd"
   ]
  },
  {
   "cell_type": "code",
   "execution_count": 2,
   "id": "a5b177f1",
   "metadata": {},
   "outputs": [
    {
     "data": {
      "text/plain": [
       "<Response [200]>"
      ]
     },
     "execution_count": 2,
     "metadata": {},
     "output_type": "execute_result"
    }
   ],
   "source": [
    "url = \"https://greenstocknews.com/stocks/electric-vehicle-stocks\"\n",
    "\n",
    "r = requests.get(url)\n",
    "r"
   ]
  },
  {
   "cell_type": "code",
   "execution_count": 3,
   "id": "8ea353e5",
   "metadata": {},
   "outputs": [],
   "source": [
    "soup = BeautifulSoup(r.content, 'html.parser')"
   ]
  },
  {
   "cell_type": "code",
   "execution_count": 6,
   "id": "e9abf984",
   "metadata": {},
   "outputs": [],
   "source": [
    "table = soup.find('div', class_=\"table-content stockslist-items\")"
   ]
  },
  {
   "cell_type": "code",
   "execution_count": 32,
   "id": "0b3c7eb4",
   "metadata": {
    "scrolled": true
   },
   "outputs": [],
   "source": [
    "Stock_Name = []\n",
    "Last_Trade = []\n",
    "Change = []\n",
    "Volume = []\n",
    "Shares = []\n",
    "Market = []\n",
    "\n",
    "for items in table:\n",
    "    rows = items.find('div',class_=\"stock-data\")\n",
    "    \n",
    "    for row in rows:\n",
    "        \n",
    "        stock_name = row.find('div', class_=\"stock-name\")\n",
    "        Stock_Name.append(stock_name.text.strip())\n",
    "\n",
    "        last_trade = row.find('div',class_=\"last-trade\")\n",
    "        Last_Trade.append(last_trade.text.strip())\n",
    "        \n",
    "        change = row.find('div',class_=\"market-change\")\n",
    "        Change.append(change.text.strip())\n",
    "        \n",
    "        volume = row.find('div',class_=\"volume-average\")\n",
    "        Volume.append(volume.text.strip())\n",
    "        \n",
    "        shares = row.find('div',class_=\"range-high-low\")\n",
    "        Shares.append(shares.text.strip())\n",
    "        \n",
    "        market_cap = row.find('div', class_=\"market-cap\")\n",
    "        Market.append(market_cap.text.strip())\n",
    "        "
   ]
  },
  {
   "cell_type": "code",
   "execution_count": 61,
   "id": "4d9bcfd3",
   "metadata": {
    "scrolled": true
   },
   "outputs": [
    {
     "data": {
      "text/plain": [
       "23"
      ]
     },
     "execution_count": 61,
     "metadata": {},
     "output_type": "execute_result"
    }
   ],
   "source": [
    "len(Change[4])"
   ]
  },
  {
   "cell_type": "code",
   "execution_count": 54,
   "id": "29cb39c3",
   "metadata": {},
   "outputs": [
    {
     "data": {
      "text/plain": [
       "'-2.64 -1.54 -2.64 -1.54'"
      ]
     },
     "execution_count": 54,
     "metadata": {},
     "output_type": "execute_result"
    }
   ],
   "source": [
    "Change[1]"
   ]
  },
  {
   "cell_type": "code",
   "execution_count": 44,
   "id": "c7da8069",
   "metadata": {},
   "outputs": [
    {
     "data": {
      "text/plain": [
       "['0.13 4.78 0.13 4.78',\n",
       " '-2.64 -1.54 -2.64 -1.54',\n",
       " '3.04 2.21 3.04 2.21',\n",
       " '-0.16 -1.33 -0.16 -1.33',\n",
       " '-0.38 -1.13 -0.38 -1.13',\n",
       " '-0.07 -0.23 -0.07 -0.23',\n",
       " '0.02 0.08 0.02 0.08',\n",
       " '-0.11 -1.33 -0.11 -1.33',\n",
       " '-0.43 -5.58 -0.43 -5.58',\n",
       " '-0.01 -0.07 -0.01 -0.07',\n",
       " '-0.46 -4.36 -0.46 -4.36',\n",
       " '-0.15 -3.64 -0.15 -3.64',\n",
       " '0.05 0.47 0.05 0.47',\n",
       " '-0.47 -7.10 -0.47 -7.10',\n",
       " '-0.22 -3.77 -0.22 -3.77',\n",
       " '-1.12 -5.67 -1.12 -5.67',\n",
       " '-0.13 -13.04 -0.13 -13.04',\n",
       " '-0.59 -7.38 -0.59 -7.38',\n",
       " '-0.19 -7.92 -0.19 -7.92',\n",
       " '-0.05 -7.34 -0.05 -7.34',\n",
       " '0.11 3.62 0.11 3.62',\n",
       " '-0.04 -2.70 -0.04 -2.70',\n",
       " '-0.06 -5.53 -0.06 -5.53',\n",
       " '-0.02 -7.93 -0.02 -7.93',\n",
       " '-0.06 -2.79 -0.06 -2.79',\n",
       " '-0.02 -3.85 -0.02 -3.85',\n",
       " '-0.0044 -0.90 -0.0044 -0.90',\n",
       " '-0.03 -8.41 -0.03 -8.41',\n",
       " '0.02 6.80 0.02 6.80',\n",
       " '-0.0085 -1.59 -0.0085 -1.59',\n",
       " '-0.06 -2.42 -0.06 -2.42',\n",
       " '-0.0079 -1.00 -0.0079 -1.00',\n",
       " '-0.20 -8.20 -0.20 -8.20',\n",
       " '-0.06 -4.61 -0.06 -4.61',\n",
       " '0.00 0.00 0.00 0.00',\n",
       " '0.0003 0.06 0.0003 0.06',\n",
       " '-0.0003 -0.06 -0.0003 -0.06',\n",
       " '-0.02 -2.30 -0.02 -2.30',\n",
       " '-0.07 -5.43 -0.07 -5.43',\n",
       " '0.01 0.61 0.01 0.61',\n",
       " '-0.05 -53.37 -0.05 -53.37']"
      ]
     },
     "execution_count": 44,
     "metadata": {},
     "output_type": "execute_result"
    }
   ],
   "source": [
    "Change"
   ]
  },
  {
   "cell_type": "code",
   "execution_count": null,
   "id": "8406bcfa",
   "metadata": {},
   "outputs": [],
   "source": []
  }
 ],
 "metadata": {
  "kernelspec": {
   "display_name": "Python 3 (ipykernel)",
   "language": "python",
   "name": "python3"
  },
  "language_info": {
   "codemirror_mode": {
    "name": "ipython",
    "version": 3
   },
   "file_extension": ".py",
   "mimetype": "text/x-python",
   "name": "python",
   "nbconvert_exporter": "python",
   "pygments_lexer": "ipython3",
   "version": "3.9.13"
  }
 },
 "nbformat": 4,
 "nbformat_minor": 5
}
