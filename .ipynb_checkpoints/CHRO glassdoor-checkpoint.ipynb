{
 "cells": [
  {
   "cell_type": "code",
   "execution_count": 1,
   "id": "4bb35c6d",
   "metadata": {},
   "outputs": [],
   "source": [
    "from selenium import webdriver\n",
    "from selenium.webdriver.common.by import By\n",
    "from selenium.webdriver.support.ui import WebDriverWait\n",
    "from selenium.webdriver.support import expected_conditions as EC\n",
    "from selenium.common.exceptions import ElementClickInterceptedException\n",
    "from selenium.webdriver.common.keys import Keys\n",
    "from selenium.common.exceptions import TimeoutException\n",
    "from selenium.webdriver.chrome.service import Service\n",
    "\n",
    "import time\n",
    "import re\n",
    "from pathlib import Path\n",
    "import sys\n",
    "import pandas as pd\n",
    "from datetime import date, timedelta, datetime"
   ]
  },
  {
   "cell_type": "code",
   "execution_count": 2,
   "id": "8a3c8170",
   "metadata": {},
   "outputs": [],
   "source": [
    "import os\n",
    "import shutil      \n",
    "os.chdir('C:\\\\Users\\\\hp11\\\\Downloads')"
   ]
  },
  {
   "cell_type": "code",
   "execution_count": 3,
   "id": "70873bc4",
   "metadata": {},
   "outputs": [
    {
     "data": {
      "text/plain": [
       "WindowsPath('C:/Users/hp11/Downloads/chromedriver')"
      ]
     },
     "execution_count": 3,
     "metadata": {},
     "output_type": "execute_result"
    }
   ],
   "source": [
    "Path.cwd() / \"chromedriver\""
   ]
  },
  {
   "cell_type": "code",
   "execution_count": 4,
   "id": "ae6d5c30",
   "metadata": {},
   "outputs": [
    {
     "data": {
      "text/plain": [
       "'4.1.0'"
      ]
     },
     "execution_count": 4,
     "metadata": {},
     "output_type": "execute_result"
    }
   ],
   "source": [
    "import selenium\n",
    "selenium.__version__"
   ]
  },
  {
   "cell_type": "code",
   "execution_count": 5,
   "id": "761ec70e",
   "metadata": {},
   "outputs": [
    {
     "data": {
      "text/plain": [
       "'05-05-2023'"
      ]
     },
     "execution_count": 5,
     "metadata": {},
     "output_type": "execute_result"
    }
   ],
   "source": [
    "day = date.today() - timedelta(days=3)\n",
    "day = str(datetime.strftime(day, '%d-%m-%Y'))\n",
    "day"
   ]
  },
  {
   "cell_type": "markdown",
   "id": "e1efb496",
   "metadata": {},
   "source": [
    "# Profile Strength"
   ]
  },
  {
   "cell_type": "code",
   "execution_count": 89,
   "id": "73dbec6e",
   "metadata": {},
   "outputs": [
    {
     "name": "stdout",
     "output_type": "stream",
     "text": [
      "<Spreadsheet 'GMB - Pristyn Care ' id:1sSCdp-fAlvPEuqjXXM6FFZZz01DxTAkrpdQr64H7J9o>\n"
     ]
    }
   ],
   "source": [
    "# WRITING TO SHEETS DIRECTLY\n",
    "import gspread\n",
    "from oauth2client.service_account import ServiceAccountCredentials\n",
    "\n",
    "# define the scope\n",
    "scope = ['https://spreadsheets.google.com/feeds','https://www.googleapis.com/auth/drive']\n",
    "\n",
    "# add credentials to the account\n",
    "creds = ServiceAccountCredentials.from_json_keyfile_name('C:\\\\Users\\\\hp11\\\\Documents\\\\keys\\\\Service_key.json', scope)\n",
    "\n",
    "# authorize the clientsheet \n",
    "client = gspread.authorize(creds)\n",
    "\n",
    "# get the instance of the Spreadsheet    \n",
    "sheet = client.open_by_key('')\n",
    "print(sheet)\n",
    "\n",
    "sheetName = 'Vasi - review link'\n",
    "# review_sheet = \"Review links\""
   ]
  },
  {
   "cell_type": "code",
   "execution_count": 90,
   "id": "5d063a0e",
   "metadata": {},
   "outputs": [
    {
     "data": {
      "text/plain": [
       "'Vasi - review link'"
      ]
     },
     "execution_count": 90,
     "metadata": {},
     "output_type": "execute_result"
    }
   ],
   "source": [
    "sheetName"
   ]
  },
  {
   "cell_type": "code",
   "execution_count": 91,
   "id": "5e4f7c65",
   "metadata": {},
   "outputs": [],
   "source": [
    "# !pip install selenium==4.1.0"
   ]
  },
  {
   "cell_type": "code",
   "execution_count": 100,
   "id": "f8ad07b8",
   "metadata": {},
   "outputs": [
    {
     "data": {
      "text/plain": [
       "9"
      ]
     },
     "execution_count": 100,
     "metadata": {},
     "output_type": "execute_result"
    }
   ],
   "source": [
    "df = pd.read_csv(\"GMB - Pristyn Care  - Clinic - Latest.csv\")    #rem-store-code-kw.csv   #store_codes_for_GMB_keywords.csv\")\n",
    "df = df[df['lookup'].isna()]\n",
    "kw_gen = df['store_code_business_name'].tolist()\n",
    "len(kw_gen)"
   ]
  },
  {
   "cell_type": "code",
   "execution_count": 93,
   "id": "c3a39165",
   "metadata": {},
   "outputs": [
    {
     "data": {
      "text/plain": [
       "WindowsPath('C:/Users/hp11/Downloads')"
      ]
     },
     "execution_count": 93,
     "metadata": {},
     "output_type": "execute_result"
    }
   ],
   "source": [
    "Path.cwd()"
   ]
  },
  {
   "cell_type": "code",
   "execution_count": 13,
   "id": "c567d60f",
   "metadata": {},
   "outputs": [
    {
     "name": "stdout",
     "output_type": "stream",
     "text": [
      "Ok let's go !\n"
     ]
    }
   ],
   "source": [
    "# Input your SemRush Login here\n",
    "mail = \"24q2n@superblohey.com\"\n",
    "password = \"glassdoor@123\"\n",
    "\n",
    "download_folder = Path.cwd() / \"GMB-Keywords\"\n",
    "\n",
    "# # INITIATION\n",
    "import time\n",
    "start = time.time()\n",
    "print(\"Ok let's go !\")\n",
    "\n",
    "# URLs \n",
    "url_website = 'https://www.glassdoor.co.in/profile/login_input.htm?userOriginHook=HEADER_SIGNIN_LINK'\n",
    "# url_website = 'https://www.glassdoor.co.in/Salaries/chro-salary-SRCH_KO0,4.htm?clickSource=searchBtn'\n",
    "\n",
    "# Setting up Chrome headless download\n",
    "def enable_download_in_headless_chrome(browser, download_dir):\n",
    "    #add missing support for chrome \"send_command\"  to selenium webdriver\n",
    "    browser.command_executor._commands[\"send_command\"] = (\"POST\", '/session/$sessionId/chromium/send_command')\n",
    "    #Set up download folder\n",
    "    excel_folder = download_folder\n",
    "    myexcel_folder = str(excel_folder)\n",
    "    params = {'cmd': 'Page.setDownloadBehavior', 'params': {'behavior': 'allow', 'downloadPath': myexcel_folder}}\n",
    "    browser.execute(\"send_command\", params)\n",
    "\n",
    "\n",
    "# Setting up Chrome options\n",
    "chrome_folder = Path.cwd() / \"chromedriver\"\n",
    "mychrome_folder = str(chrome_folder)\n",
    "\n",
    "chrome_options = webdriver.ChromeOptions()\n",
    "\n",
    "chrome_options.add_argument(\"--incognito\")\n",
    "# mobile_emulation = {\"deviceName\": \"iPhone X\"}\n",
    "# chrome_options.add_experimental_option(\"mobileEmulation\", mobile_emulation)\n",
    "\n",
    "# chrome_options.add_argument(\"--lang=en\")\n",
    "# chrome_options.add_argument(\"--disable-features=NetworkService\")\n",
    "# chrome_options.add_argument(\"--window-size=1920,1080\")\n",
    "# chrome_options.add_argument('headless')\n",
    "\n",
    "chrome_options.binary_location = \"C:\\\\Program Files\\\\Google\\\\Chrome\\\\Application\\\\chrome.exe\"\n",
    "\n",
    "driver_path = 'C://Users//hp11//Pictures//chromedriver.exe'\n",
    "\n",
    "serv = Service(driver_path)\n",
    "\n",
    "browser = webdriver.Chrome(options=chrome_options, service = serv)\n",
    "# browser = webdriver.Chrome()\n",
    "\n",
    "time.sleep(3)\n",
    "\n",
    "# Setting up Chrome headless download\n",
    "enable_download_in_headless_chrome(browser, \"c:\\temp\")\n",
    "\n",
    "# Opening a new URL\n",
    "# browser = webdriver.Chrome()\n",
    "source = browser.get(url_website)\n",
    "\n",
    "browser.maximize_window()\n",
    "\n",
    "# Clicking on login text   \n",
    "# login_icon = WebDriverWait(browser, 8).until(EC.element_to_be_clickable((By.XPATH,\"//div[contains(text(),'Log in')]\")))\n",
    "# login_icon.click()\n",
    "# time.sleep(2)\n",
    "\n",
    "# Putting the logins\n",
    "login_bar = browser.find_element(\"name\",\"username\")\n",
    "# login_bar = WebDriverWait(browser, 20).until(EC.element_to_be_clickable((By.XPATH,\"//div[text()='Email or phone']\")))\n",
    "login_bar.send_keys(mail)\n",
    "time.sleep(1)\n",
    "\n",
    "# next_btn = browser.find_elements_by_xpath(\"//*[contains(text(), 'Continue with Email')]\")\n",
    "# pwd.send_keys(password)                                               \n",
    "# time.sleep(1)\n",
    "\n",
    "next_btn = WebDriverWait(browser, 20).until(EC.element_to_be_clickable((By.XPATH,\"//span[text()='Continue with Email']\")))\n",
    "next_btn.click()\n",
    "time.sleep(5)\n",
    "\n",
    "pwd = browser.find_element(\"name\",\"password\")\n",
    "pwd.send_keys(password)                                               \n",
    "time.sleep(1)\n",
    "                                          \n",
    "next_btn = WebDriverWait(browser, 20).until(EC.element_to_be_clickable((By.XPATH,\"//span[text()='Sign In']\")))\n",
    "next_btn.click()\n",
    "time.sleep(2)"
   ]
  },
  {
   "cell_type": "code",
   "execution_count": 20,
   "id": "85a6ea03",
   "metadata": {},
   "outputs": [],
   "source": [
    "browser.get(\"https://www.glassdoor.co.in/Salaries/index.htm\")\n",
    "\n",
    "job_title = browser.find_element(\"xpath\",\"/html/body/header/nav[1]/div/div/div/div[4]/div[2]/form/div/div[1]/div/div/input\")\n",
    "job_title.send_keys(\"CHRO\") \n",
    "\n",
    "search = WebDriverWait(browser, 30).until(EC.element_to_be_clickable((By.XPATH, \"/html/body/header/nav[1]/div/div/div/div[4]/div[2]/form/div/button/span\")))\n",
    "search.click()                            \n",
    "time.sleep(2)"
   ]
  },
  {
   "cell_type": "code",
   "execution_count": 36,
   "id": "7402e5ca",
   "metadata": {},
   "outputs": [
    {
     "name": "stdout",
     "output_type": "stream",
     "text": [
      "clickable\n",
      "clickable\n"
     ]
    }
   ],
   "source": [
    "# List of keys\n",
    "comp = []\n",
    "sal = []\n",
    "month = []\n",
    "\n",
    "# initialize dictionary\n",
    "chro_dic = {\n",
    "    'Company': comp,\n",
    "    'Salary': sal,\n",
    "    'Monthly': month\n",
    "}\n",
    "\n",
    "while True:\n",
    "    company = browser.find_elements(\"xpath\",\"//a[@class='css-14gxptn e1aj7ssy3']\")\n",
    "    for elm in company:\n",
    "        chro_dic['Company'].append(elm.text)\n",
    "\n",
    "    salary = browser.find_elements(\"xpath\",\"//div[@class='d-flex align-items-baseline']//h3[@class='m-0 css-be8uqy el6ke056']\")\n",
    "    for elm in salary:\n",
    "        chro_dic['Salary'].append(elm.text)\n",
    "\n",
    "    monthly = browser.find_elements(\"xpath\",\"//div[@class='col-12 col-lg px-xsm']//span[@class='m-0 css-jiegi el6ke0510']\")\n",
    "    for elm in monthly:\n",
    "        chro_dic['Monthly'].append(elm.text)\n",
    "    time.sleep(5)\n",
    "    \n",
    "    try:\n",
    "        next_btn = WebDriverWait(browser, 30).until(EC.element_to_be_clickable((By.XPATH, \"//button[@aria-label='Next']\")))\n",
    "        next_btn.click()\n",
    "        print(\"clickable\")\n",
    "    except TimeoutException:\n",
    "        break"
   ]
  },
  {
   "cell_type": "code",
   "execution_count": 33,
   "id": "cc3b069f",
   "metadata": {},
   "outputs": [
    {
     "name": "stdout",
     "output_type": "stream",
     "text": [
      "{'Company': ['Infollion', 'Welspun Group', 'Zolo', 'Srijan Technologies', 'Shalby Hospitals', 'Gameskraft', 'Sdgc', 'Tata ClassEdge', 'ICA Edu Skills', 'GMR Delhi International Airport', 'DB Schenker', 'Universal Sompo General Insurance', 'Baazi Games', 'Vahdam Teas', 'Makaan com', 'Orient Bell', 'Indospirit', 'Taashee Linux Services', 'News Corp', 'Strivector', 'IT World Web.com Group of Brands', 'Firestar Diamond', 'Shipra Group', 'IndoSpace', 'Muvtons', 'Numero Uno Clothing', 'Utah Tech Labs', 'Sanjivani Credit Cooperative Society', 'BlackOpal (India)', 'Manjushree Ventures', 'ATP STAR', 'Chemaf S.A.R.L', 'Himatsingka Seide Limited'], 'Salary': ['₹1L -₹1L', '₹53L -₹58L', '₹99T -₹1L', '₹62L -₹67L', '₹6L -₹6L', '₹10L -₹10L', '₹31L -₹34L', '₹61L -₹66L', '₹40L -₹43L', '₹19L -₹21L', '₹64L -₹69L', '₹71L -₹79L', '₹96L -₹1Cr', '₹62L -₹68L', '₹1L -₹1L', '₹81L -₹87L', '₹39L -₹42L', '₹3L -₹3L', '₹2L -₹2L', '₹29L -₹31L', '₹26T -₹28T', '₹26L -₹28L', '₹66L -₹72L', '₹49L -₹53L', '₹57L -₹62L', '₹17L -₹19L', '₹5L -₹6L', '₹7L -₹8L', '₹24L -₹26L', '₹70L -₹76L', '₹10L -₹11L', '₹77L -₹84L', '₹2Cr -₹2Cr'], 'Monthly': ['CHRO - Monthly', 'CHRO', 'CHRO - Monthly', 'CHRO', 'CHRO - Monthly', 'CHRO', 'CHRO', 'CHRO', 'CHRO', 'CHRO', 'CHRO', 'CHRO', 'CHRO', 'CHRO', 'CHRO - Monthly', 'CHRO', 'CHRO', 'CHRO - Monthly', 'CHRO - Monthly', 'CHRO', 'CHRO - Monthly', 'CHRO', 'CHRO', 'CHRO', 'CHRO', 'CHRO', 'CHRO', 'CHRO', 'CHRO', 'CHRO', 'CHRO', 'CHRO', 'President Human Resources & Group CHRO']}\n"
     ]
    }
   ],
   "source": [
    "print(chro_dic)"
   ]
  },
  {
   "cell_type": "code",
   "execution_count": 37,
   "id": "b28aa9e0",
   "metadata": {},
   "outputs": [
    {
     "data": {
      "text/html": [
       "<div>\n",
       "<style scoped>\n",
       "    .dataframe tbody tr th:only-of-type {\n",
       "        vertical-align: middle;\n",
       "    }\n",
       "\n",
       "    .dataframe tbody tr th {\n",
       "        vertical-align: top;\n",
       "    }\n",
       "\n",
       "    .dataframe thead th {\n",
       "        text-align: right;\n",
       "    }\n",
       "</style>\n",
       "<table border=\"1\" class=\"dataframe\">\n",
       "  <thead>\n",
       "    <tr style=\"text-align: right;\">\n",
       "      <th></th>\n",
       "      <th>Company</th>\n",
       "      <th>Salary</th>\n",
       "      <th>Monthly</th>\n",
       "    </tr>\n",
       "  </thead>\n",
       "  <tbody>\n",
       "    <tr>\n",
       "      <th>0</th>\n",
       "      <td>Infollion</td>\n",
       "      <td>₹1L -₹1L</td>\n",
       "      <td>CHRO - Monthly</td>\n",
       "    </tr>\n",
       "    <tr>\n",
       "      <th>1</th>\n",
       "      <td>Welspun Group</td>\n",
       "      <td>₹53L -₹58L</td>\n",
       "      <td>CHRO</td>\n",
       "    </tr>\n",
       "    <tr>\n",
       "      <th>2</th>\n",
       "      <td>Zolo</td>\n",
       "      <td>₹99T -₹1L</td>\n",
       "      <td>CHRO - Monthly</td>\n",
       "    </tr>\n",
       "    <tr>\n",
       "      <th>3</th>\n",
       "      <td>Srijan Technologies</td>\n",
       "      <td>₹62L -₹67L</td>\n",
       "      <td>CHRO</td>\n",
       "    </tr>\n",
       "    <tr>\n",
       "      <th>4</th>\n",
       "      <td>Shalby Hospitals</td>\n",
       "      <td>₹6L -₹6L</td>\n",
       "      <td>CHRO - Monthly</td>\n",
       "    </tr>\n",
       "  </tbody>\n",
       "</table>\n",
       "</div>"
      ],
      "text/plain": [
       "               Company      Salary         Monthly\n",
       "0            Infollion    ₹1L -₹1L  CHRO - Monthly\n",
       "1        Welspun Group  ₹53L -₹58L            CHRO\n",
       "2                 Zolo   ₹99T -₹1L  CHRO - Monthly\n",
       "3  Srijan Technologies  ₹62L -₹67L            CHRO\n",
       "4     Shalby Hospitals    ₹6L -₹6L  CHRO - Monthly"
      ]
     },
     "execution_count": 37,
     "metadata": {},
     "output_type": "execute_result"
    }
   ],
   "source": [
    "df = pd.DataFrame(chro_dic)\n",
    "df.head()"
   ]
  },
  {
   "cell_type": "code",
   "execution_count": 39,
   "id": "b16ed040",
   "metadata": {},
   "outputs": [],
   "source": [
    "df.to_excel(\"CHRO-salary-2.xlsx\", index=False)"
   ]
  },
  {
   "cell_type": "code",
   "execution_count": null,
   "id": "7c2226dc",
   "metadata": {},
   "outputs": [],
   "source": []
  },
  {
   "cell_type": "code",
   "execution_count": 49,
   "id": "379d242e",
   "metadata": {},
   "outputs": [],
   "source": [
    "from selenium import webdriver\n",
    "import time\n",
    "from bs4 import BeautifulSoup\n",
    "import xlsxwriter\n",
    "\n",
    "from tkinter import * # Install All these modules before importing these modules\n",
    "\n",
    "class Linkedin():\n",
    "    def getData(self):\n",
    "        driver = webdriver.Chrome()    # ../chromedriver.exe\n",
    "        driver.get('https://www.linkedin.com/login')\n",
    "        driver.find_element('id', 'username').send_keys('hackedversion852@gmail.com')\n",
    "        driver.find_element('id', 'password').send_keys('a1b2d3@!')\n",
    "        driver.find_element_by_xpath(\"//*[@type='submit']\").click()\n",
    "                                                        \n",
    "        search_key = \"CFO\"    # Enter your Search key here to find people\n",
    "        key = search_key.split()\n",
    "        keyword= \"\"\n",
    "        for key1 in key:\n",
    "            keyword = keyword + str(key1).capitalize() + \"%20\" \n",
    "        keyword = keyword.rstrip(\"%20\")"
   ]
  },
  {
   "cell_type": "code",
   "execution_count": 60,
   "id": "af4baf41",
   "metadata": {},
   "outputs": [
    {
     "ename": "NoSuchElementException",
     "evalue": "Message: no such element: Unable to locate element: {\"method\":\"css selector\",\"selector\":\"[id=\"password\"]\"}\n  (Session info: chrome=112.0.5615.138)\nStacktrace:\nBacktrace:\n\t(No symbol) [0x0055DCE3]\n\t(No symbol) [0x004F39D1]\n\t(No symbol) [0x00404DA8]\n\t(No symbol) [0x0043019F]\n\t(No symbol) [0x004303AB]\n\t(No symbol) [0x0045EE62]\n\t(No symbol) [0x0044AF14]\n\t(No symbol) [0x0045D57C]\n\t(No symbol) [0x0044ACC6]\n\t(No symbol) [0x00426F68]\n\t(No symbol) [0x004280CD]\n\tGetHandleVerifier [0x007D3832+2506274]\n\tGetHandleVerifier [0x00809794+2727300]\n\tGetHandleVerifier [0x0080E36C+2746716]\n\tGetHandleVerifier [0x00606690+617600]\n\t(No symbol) [0x004FC712]\n\t(No symbol) [0x00501FF8]\n\t(No symbol) [0x005020DB]\n\t(No symbol) [0x0050C63B]\n\tBaseThreadInitThunk [0x77020099+25]\n\tRtlGetAppContainerNamedObjectPath [0x77167B6E+286]\n\tRtlGetAppContainerNamedObjectPath [0x77167B3E+238]\n",
     "output_type": "error",
     "traceback": [
      "\u001b[1;31m---------------------------------------------------------------------------\u001b[0m",
      "\u001b[1;31mNoSuchElementException\u001b[0m                    Traceback (most recent call last)",
      "Cell \u001b[1;32mIn[60], line 21\u001b[0m\n\u001b[0;32m     18\u001b[0m browser\u001b[38;5;241m.\u001b[39mimplicitly_wait(\u001b[38;5;241m5\u001b[39m)\n\u001b[0;32m     20\u001b[0m \u001b[38;5;66;03m# browser.find_element('id', 'username').send_keys('hackedversion852@gmail.com')\u001b[39;00m\n\u001b[1;32m---> 21\u001b[0m \u001b[43mbrowser\u001b[49m\u001b[38;5;241;43m.\u001b[39;49m\u001b[43mfind_element\u001b[49m\u001b[43m(\u001b[49m\u001b[38;5;124;43m'\u001b[39;49m\u001b[38;5;124;43mid\u001b[39;49m\u001b[38;5;124;43m'\u001b[39;49m\u001b[43m,\u001b[49m\u001b[43m \u001b[49m\u001b[38;5;124;43m'\u001b[39;49m\u001b[38;5;124;43mpassword\u001b[39;49m\u001b[38;5;124;43m'\u001b[39;49m\u001b[43m)\u001b[49m\u001b[38;5;241m.\u001b[39msend_keys(\u001b[38;5;124m'\u001b[39m\u001b[38;5;124ma1b2d3@!\u001b[39m\u001b[38;5;124m'\u001b[39m)\n\u001b[0;32m     23\u001b[0m browser\u001b[38;5;241m.\u001b[39mfind_element_by_xpath(\u001b[38;5;124m\"\u001b[39m\u001b[38;5;124m//*[@type=\u001b[39m\u001b[38;5;124m'\u001b[39m\u001b[38;5;124msubmit\u001b[39m\u001b[38;5;124m'\u001b[39m\u001b[38;5;124m]\u001b[39m\u001b[38;5;124m\"\u001b[39m)\u001b[38;5;241m.\u001b[39mclick()\n\u001b[0;32m     24\u001b[0m \u001b[38;5;66;03m# browser.find_element_by_xpath(\"//*[@text()='Skip']\").click()\u001b[39;00m\n\u001b[0;32m     25\u001b[0m \n\u001b[0;32m     26\u001b[0m \u001b[38;5;66;03m# Find the search input element and enter the keyword\u001b[39;00m\n",
      "File \u001b[1;32m~\\anaconda3\\lib\\site-packages\\selenium\\webdriver\\remote\\webdriver.py:1244\u001b[0m, in \u001b[0;36mWebDriver.find_element\u001b[1;34m(self, by, value)\u001b[0m\n\u001b[0;32m   1241\u001b[0m     by \u001b[38;5;241m=\u001b[39m By\u001b[38;5;241m.\u001b[39mCSS_SELECTOR\n\u001b[0;32m   1242\u001b[0m     value \u001b[38;5;241m=\u001b[39m \u001b[38;5;124m'\u001b[39m\u001b[38;5;124m[name=\u001b[39m\u001b[38;5;124m\"\u001b[39m\u001b[38;5;132;01m%s\u001b[39;00m\u001b[38;5;124m\"\u001b[39m\u001b[38;5;124m]\u001b[39m\u001b[38;5;124m'\u001b[39m \u001b[38;5;241m%\u001b[39m value\n\u001b[1;32m-> 1244\u001b[0m \u001b[38;5;28;01mreturn\u001b[39;00m \u001b[38;5;28;43mself\u001b[39;49m\u001b[38;5;241;43m.\u001b[39;49m\u001b[43mexecute\u001b[49m\u001b[43m(\u001b[49m\u001b[43mCommand\u001b[49m\u001b[38;5;241;43m.\u001b[39;49m\u001b[43mFIND_ELEMENT\u001b[49m\u001b[43m,\u001b[49m\u001b[43m \u001b[49m\u001b[43m{\u001b[49m\n\u001b[0;32m   1245\u001b[0m \u001b[43m    \u001b[49m\u001b[38;5;124;43m'\u001b[39;49m\u001b[38;5;124;43musing\u001b[39;49m\u001b[38;5;124;43m'\u001b[39;49m\u001b[43m:\u001b[49m\u001b[43m \u001b[49m\u001b[43mby\u001b[49m\u001b[43m,\u001b[49m\n\u001b[0;32m   1246\u001b[0m \u001b[43m    \u001b[49m\u001b[38;5;124;43m'\u001b[39;49m\u001b[38;5;124;43mvalue\u001b[39;49m\u001b[38;5;124;43m'\u001b[39;49m\u001b[43m:\u001b[49m\u001b[43m \u001b[49m\u001b[43mvalue\u001b[49m\u001b[43m}\u001b[49m\u001b[43m)\u001b[49m[\u001b[38;5;124m'\u001b[39m\u001b[38;5;124mvalue\u001b[39m\u001b[38;5;124m'\u001b[39m]\n",
      "File \u001b[1;32m~\\anaconda3\\lib\\site-packages\\selenium\\webdriver\\remote\\webdriver.py:424\u001b[0m, in \u001b[0;36mWebDriver.execute\u001b[1;34m(self, driver_command, params)\u001b[0m\n\u001b[0;32m    422\u001b[0m response \u001b[38;5;241m=\u001b[39m \u001b[38;5;28mself\u001b[39m\u001b[38;5;241m.\u001b[39mcommand_executor\u001b[38;5;241m.\u001b[39mexecute(driver_command, params)\n\u001b[0;32m    423\u001b[0m \u001b[38;5;28;01mif\u001b[39;00m response:\n\u001b[1;32m--> 424\u001b[0m     \u001b[38;5;28;43mself\u001b[39;49m\u001b[38;5;241;43m.\u001b[39;49m\u001b[43merror_handler\u001b[49m\u001b[38;5;241;43m.\u001b[39;49m\u001b[43mcheck_response\u001b[49m\u001b[43m(\u001b[49m\u001b[43mresponse\u001b[49m\u001b[43m)\u001b[49m\n\u001b[0;32m    425\u001b[0m     response[\u001b[38;5;124m'\u001b[39m\u001b[38;5;124mvalue\u001b[39m\u001b[38;5;124m'\u001b[39m] \u001b[38;5;241m=\u001b[39m \u001b[38;5;28mself\u001b[39m\u001b[38;5;241m.\u001b[39m_unwrap_value(\n\u001b[0;32m    426\u001b[0m         response\u001b[38;5;241m.\u001b[39mget(\u001b[38;5;124m'\u001b[39m\u001b[38;5;124mvalue\u001b[39m\u001b[38;5;124m'\u001b[39m, \u001b[38;5;28;01mNone\u001b[39;00m))\n\u001b[0;32m    427\u001b[0m     \u001b[38;5;28;01mreturn\u001b[39;00m response\n",
      "File \u001b[1;32m~\\anaconda3\\lib\\site-packages\\selenium\\webdriver\\remote\\errorhandler.py:247\u001b[0m, in \u001b[0;36mErrorHandler.check_response\u001b[1;34m(self, response)\u001b[0m\n\u001b[0;32m    245\u001b[0m         alert_text \u001b[38;5;241m=\u001b[39m value[\u001b[38;5;124m'\u001b[39m\u001b[38;5;124malert\u001b[39m\u001b[38;5;124m'\u001b[39m]\u001b[38;5;241m.\u001b[39mget(\u001b[38;5;124m'\u001b[39m\u001b[38;5;124mtext\u001b[39m\u001b[38;5;124m'\u001b[39m)\n\u001b[0;32m    246\u001b[0m     \u001b[38;5;28;01mraise\u001b[39;00m exception_class(message, screen, stacktrace, alert_text)  \u001b[38;5;66;03m# type: ignore[call-arg]  # mypy is not smart enough here\u001b[39;00m\n\u001b[1;32m--> 247\u001b[0m \u001b[38;5;28;01mraise\u001b[39;00m exception_class(message, screen, stacktrace)\n",
      "\u001b[1;31mNoSuchElementException\u001b[0m: Message: no such element: Unable to locate element: {\"method\":\"css selector\",\"selector\":\"[id=\"password\"]\"}\n  (Session info: chrome=112.0.5615.138)\nStacktrace:\nBacktrace:\n\t(No symbol) [0x0055DCE3]\n\t(No symbol) [0x004F39D1]\n\t(No symbol) [0x00404DA8]\n\t(No symbol) [0x0043019F]\n\t(No symbol) [0x004303AB]\n\t(No symbol) [0x0045EE62]\n\t(No symbol) [0x0044AF14]\n\t(No symbol) [0x0045D57C]\n\t(No symbol) [0x0044ACC6]\n\t(No symbol) [0x00426F68]\n\t(No symbol) [0x004280CD]\n\tGetHandleVerifier [0x007D3832+2506274]\n\tGetHandleVerifier [0x00809794+2727300]\n\tGetHandleVerifier [0x0080E36C+2746716]\n\tGetHandleVerifier [0x00606690+617600]\n\t(No symbol) [0x004FC712]\n\t(No symbol) [0x00501FF8]\n\t(No symbol) [0x005020DB]\n\t(No symbol) [0x0050C63B]\n\tBaseThreadInitThunk [0x77020099+25]\n\tRtlGetAppContainerNamedObjectPath [0x77167B6E+286]\n\tRtlGetAppContainerNamedObjectPath [0x77167B3E+238]\n"
     ]
    }
   ],
   "source": [
    "from selenium import webdriver\n",
    "from selenium.webdriver.common.keys import Keys\n",
    "from selenium.webdriver.common.by import By\n",
    "\n",
    "# Set the LinkedIn URL\n",
    "linkedin_url = \"https://www.linkedin.com/login\"\n",
    "\n",
    "# Set the search keyword\n",
    "search_keyword = \"CFO\"\n",
    "\n",
    "# Initialize the Webbrowser\n",
    "# browser = webbrowser.Chrome()  # Change to the appropriate browser if using a different browser\n",
    "\n",
    "# Open LinkedIn\n",
    "browser.get(linkedin_url)\n",
    "\n",
    "# Wait for the page to load\n",
    "browser.implicitly_wait(5)\n",
    "\n",
    "# browser.find_element('id', 'username').send_keys('hackedversion852@gmail.com')\n",
    "browser.find_element('id', 'password').send_keys('a1b2d3@!')\n",
    "\n",
    "browser.find_element_by_xpath(\"//*[@type='submit']\").click()\n",
    "# browser.find_element_by_xpath(\"//*[@text()='Skip']\").click()\n",
    "\n",
    "# Find the search input element and enter the keyword\n",
    "search_input = browser.find_element(By.XPATH, \"//input[@role='combobox']\")\n",
    "search_input.send_keys(search_keyword)\n",
    "search_input.send_keys(Keys.ENTER)\n",
    "\n",
    "# Wait for the search results to load\n",
    "browser.implicitly_wait(5)\n",
    "\n",
    "# Print the search results\n",
    "search_results = browser.find_elements(By.CSS_SELECTOR, \"li.search-result\")\n",
    "for result in search_results:\n",
    "    title = result.find_element(By.CSS_SELECTOR, \"span.name\").text\n",
    "    company = result.find_element(By.CSS_SELECTOR, \"p.subline-level-1\").text\n",
    "    location = result.find_element(By.CSS_SELECTOR, \"p.subline-level-2\").text\n",
    "    print(f\"Title: {title}\\nCompany: {company}\\nLocation: {location}\\n\")\n",
    "\n",
    "# Close the Webbrowser\n",
    "# browser.quit()"
   ]
  },
  {
   "cell_type": "code",
   "execution_count": 73,
   "id": "9427d97b",
   "metadata": {},
   "outputs": [],
   "source": [
    "# Find the search input element and enter the keyword\n",
    "search_input = browser.find_element(By.XPATH, \"//input[@role='combobox']\")\n",
    "search_input.send_keys(search_keyword)\n",
    "search_input.send_keys(Keys.ENTER)\n",
    "\n",
    "# Wait for the search results to load\n",
    "browser.implicitly_wait(5)\n",
    "\n",
    "browser.find_element_by_xpath(\"//*[@id='search-reusables__filters-bar']/ul/li[2]/button\").click()\n",
    "\n",
    "search_input = browser.find_element(By.XPATH, \"//a[@text()='See all people results']\").click()\n",
    "\n",
    "search_input = browser.find_element(By.XPATH, \"//button[@aria-label='Next']\").click()\n",
    "\n",
    "# Print the search results\n",
    "# search_results = browser.find_elements(By.CSS_SELECTOR, \"li.search-result\")\n",
    "# for result in search_results:\n",
    "#     title = result.find_element(By.CSS_SELECTOR, \"span.name\").text\n",
    "#     company = result.find_element(By.CSS_SELECTOR, \"p.subline-level-1\").text\n",
    "#     location = result.find_element(By.CSS_SELECTOR, \"p.subline-level-2\").text\n",
    "#     print(f\"Title: {title}\\nCompany: {company}\\nLocation: {location}\\n\")\n"
   ]
  },
  {
   "cell_type": "code",
   "execution_count": 62,
   "id": "5d784d9f",
   "metadata": {},
   "outputs": [
    {
     "data": {
      "text/plain": [
       "[]"
      ]
     },
     "execution_count": 62,
     "metadata": {},
     "output_type": "execute_result"
    }
   ],
   "source": [
    "search_results"
   ]
  }
 ],
 "metadata": {
  "kernelspec": {
   "display_name": "Python 3 (ipykernel)",
   "language": "python",
   "name": "python3"
  },
  "language_info": {
   "codemirror_mode": {
    "name": "ipython",
    "version": 3
   },
   "file_extension": ".py",
   "mimetype": "text/x-python",
   "name": "python",
   "nbconvert_exporter": "python",
   "pygments_lexer": "ipython3",
   "version": "3.9.13"
  }
 },
 "nbformat": 4,
 "nbformat_minor": 5
}
