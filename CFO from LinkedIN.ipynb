{
 "cells": [
  {
   "cell_type": "code",
   "execution_count": 4,
   "id": "e944255e",
   "metadata": {},
   "outputs": [],
   "source": [
    "from selenium import webdriver\n",
    "import time\n",
    "from bs4 import BeautifulSoup\n",
    "import xlsxwriter\n",
    "\n",
    "from tkinter import * # Install All these modules before importing these modules\n",
    "\n",
    "class Linkedin():\n",
    "    def getData(self):\n",
    "        driver = webdriver.Chrome()    # ../chromedriver.exe\n",
    "        driver.get('https://www.linkedin.com/login')\n",
    "        driver.find_element('id', 'username').send_keys('hackedversion852@gmail.com')\n",
    "        driver.find_element('id', 'password').send_keys('a1b2d3@!')\n",
    "        driver.find_element_by_xpath(\"//*[@type='submit']\").click()\n",
    "                                                        \n",
    "        search_key = \"CFO\"    # Enter your Search key here to find people\n",
    "        key = search_key.split()\n",
    "        keyword= \"\"\n",
    "        for key1 in key:\n",
    "            keyword = keyword + str(key1).capitalize() + \"%20\" \n",
    "        keyword = keyword.rstrip(\"%20\")"
   ]
  },
  {
   "cell_type": "code",
   "execution_count": 52,
   "id": "8b340e3d",
   "metadata": {},
   "outputs": [
    {
     "name": "stdout",
     "output_type": "stream",
     "text": [
      "clickable\n"
     ]
    },
    {
     "ename": "TimeoutException",
     "evalue": "Message: \nStacktrace:\nBacktrace:\n\tGetHandleVerifier [0x00898893+48451]\n\t(No symbol) [0x0082B8A1]\n\t(No symbol) [0x00735058]\n\t(No symbol) [0x00760467]\n\t(No symbol) [0x0076069B]\n\t(No symbol) [0x0078DD92]\n\t(No symbol) [0x0077A304]\n\t(No symbol) [0x0078C482]\n\t(No symbol) [0x0077A0B6]\n\t(No symbol) [0x00757E08]\n\t(No symbol) [0x00758F2D]\n\tGetHandleVerifier [0x00AF8E3A+2540266]\n\tGetHandleVerifier [0x00B38959+2801161]\n\tGetHandleVerifier [0x00B3295C+2776588]\n\tGetHandleVerifier [0x00922280+612144]\n\t(No symbol) [0x00834F6C]\n\t(No symbol) [0x008311D8]\n\t(No symbol) [0x008312BB]\n\t(No symbol) [0x00824857]\n\tBaseThreadInitThunk [0x76377D69+25]\n\tRtlInitializeExceptionChain [0x772DB74B+107]\n\tRtlClearBits [0x772DB6CF+191]\n",
     "output_type": "error",
     "traceback": [
      "\u001b[1;31m---------------------------------------------------------------------------\u001b[0m",
      "\u001b[1;31mTimeoutException\u001b[0m                          Traceback (most recent call last)",
      "\u001b[1;32m~\\AppData\\Local\\Temp\\ipykernel_21380\\3510295527.py\u001b[0m in \u001b[0;36m<module>\u001b[1;34m\u001b[0m\n\u001b[0;32m     66\u001b[0m \u001b[1;33m\u001b[0m\u001b[0m\n\u001b[0;32m     67\u001b[0m \u001b[1;31m#     try:\u001b[0m\u001b[1;33m\u001b[0m\u001b[1;33m\u001b[0m\u001b[0m\n\u001b[1;32m---> 68\u001b[1;33m     \u001b[0mnext_btn\u001b[0m \u001b[1;33m=\u001b[0m \u001b[0mWebDriverWait\u001b[0m\u001b[1;33m(\u001b[0m\u001b[0mbrowser\u001b[0m\u001b[1;33m,\u001b[0m \u001b[1;36m30\u001b[0m\u001b[1;33m)\u001b[0m\u001b[1;33m.\u001b[0m\u001b[0muntil\u001b[0m\u001b[1;33m(\u001b[0m\u001b[0mEC\u001b[0m\u001b[1;33m.\u001b[0m\u001b[0melement_to_be_clickable\u001b[0m\u001b[1;33m(\u001b[0m\u001b[1;33m(\u001b[0m\u001b[0mBy\u001b[0m\u001b[1;33m.\u001b[0m\u001b[0mXPATH\u001b[0m\u001b[1;33m,\u001b[0m \u001b[1;34m\"//button[@aria-label='Next']\"\u001b[0m\u001b[1;33m)\u001b[0m\u001b[1;33m)\u001b[0m\u001b[1;33m)\u001b[0m\u001b[1;33m\u001b[0m\u001b[1;33m\u001b[0m\u001b[0m\n\u001b[0m\u001b[0;32m     69\u001b[0m     \u001b[0mnext_btn\u001b[0m\u001b[1;33m.\u001b[0m\u001b[0mclick\u001b[0m\u001b[1;33m(\u001b[0m\u001b[1;33m)\u001b[0m\u001b[1;33m\u001b[0m\u001b[1;33m\u001b[0m\u001b[0m\n\u001b[0;32m     70\u001b[0m     \u001b[0mprint\u001b[0m\u001b[1;33m(\u001b[0m\u001b[1;34m\"clickable\"\u001b[0m\u001b[1;33m)\u001b[0m\u001b[1;33m\u001b[0m\u001b[1;33m\u001b[0m\u001b[0m\n",
      "\u001b[1;32m~\\AppData\\Roaming\\Python\\Python39\\site-packages\\selenium\\webdriver\\support\\wait.py\u001b[0m in \u001b[0;36muntil\u001b[1;34m(self, method, message)\u001b[0m\n\u001b[0;32m     93\u001b[0m             \u001b[1;32mif\u001b[0m \u001b[0mtime\u001b[0m\u001b[1;33m.\u001b[0m\u001b[0mmonotonic\u001b[0m\u001b[1;33m(\u001b[0m\u001b[1;33m)\u001b[0m \u001b[1;33m>\u001b[0m \u001b[0mend_time\u001b[0m\u001b[1;33m:\u001b[0m\u001b[1;33m\u001b[0m\u001b[1;33m\u001b[0m\u001b[0m\n\u001b[0;32m     94\u001b[0m                 \u001b[1;32mbreak\u001b[0m\u001b[1;33m\u001b[0m\u001b[1;33m\u001b[0m\u001b[0m\n\u001b[1;32m---> 95\u001b[1;33m         \u001b[1;32mraise\u001b[0m \u001b[0mTimeoutException\u001b[0m\u001b[1;33m(\u001b[0m\u001b[0mmessage\u001b[0m\u001b[1;33m,\u001b[0m \u001b[0mscreen\u001b[0m\u001b[1;33m,\u001b[0m \u001b[0mstacktrace\u001b[0m\u001b[1;33m)\u001b[0m\u001b[1;33m\u001b[0m\u001b[1;33m\u001b[0m\u001b[0m\n\u001b[0m\u001b[0;32m     96\u001b[0m \u001b[1;33m\u001b[0m\u001b[0m\n\u001b[0;32m     97\u001b[0m     \u001b[1;32mdef\u001b[0m \u001b[0muntil_not\u001b[0m\u001b[1;33m(\u001b[0m\u001b[0mself\u001b[0m\u001b[1;33m,\u001b[0m \u001b[0mmethod\u001b[0m\u001b[1;33m,\u001b[0m \u001b[0mmessage\u001b[0m\u001b[1;33m:\u001b[0m \u001b[0mstr\u001b[0m \u001b[1;33m=\u001b[0m \u001b[1;34m\"\"\u001b[0m\u001b[1;33m)\u001b[0m\u001b[1;33m:\u001b[0m\u001b[1;33m\u001b[0m\u001b[1;33m\u001b[0m\u001b[0m\n",
      "\u001b[1;31mTimeoutException\u001b[0m: Message: \nStacktrace:\nBacktrace:\n\tGetHandleVerifier [0x00898893+48451]\n\t(No symbol) [0x0082B8A1]\n\t(No symbol) [0x00735058]\n\t(No symbol) [0x00760467]\n\t(No symbol) [0x0076069B]\n\t(No symbol) [0x0078DD92]\n\t(No symbol) [0x0077A304]\n\t(No symbol) [0x0078C482]\n\t(No symbol) [0x0077A0B6]\n\t(No symbol) [0x00757E08]\n\t(No symbol) [0x00758F2D]\n\tGetHandleVerifier [0x00AF8E3A+2540266]\n\tGetHandleVerifier [0x00B38959+2801161]\n\tGetHandleVerifier [0x00B3295C+2776588]\n\tGetHandleVerifier [0x00922280+612144]\n\t(No symbol) [0x00834F6C]\n\t(No symbol) [0x008311D8]\n\t(No symbol) [0x008312BB]\n\t(No symbol) [0x00824857]\n\tBaseThreadInitThunk [0x76377D69+25]\n\tRtlInitializeExceptionChain [0x772DB74B+107]\n\tRtlClearBits [0x772DB6CF+191]\n"
     ]
    }
   ],
   "source": [
    "from selenium import webdriver\n",
    "from selenium.webdriver.common.keys import Keys\n",
    "from selenium.webdriver.common.by import By\n",
    "from selenium.webdriver.support.ui import WebDriverWait\n",
    "from selenium.webdriver.support import expected_conditions as EC\n",
    "from selenium.common.exceptions import TimeoutException\n",
    "import time\n",
    "\n",
    "# Set the LinkedIn URL\n",
    "linkedin_url = \"https://www.linkedin.com/login\"\n",
    "\n",
    "# Set the search keyword\n",
    "search_keyword = \"CFO\"\n",
    "\n",
    "# Initialize the Webbrowser\n",
    "browser = webdriver.Chrome()  # Change to the appropriate browser if using a different browser\n",
    "\n",
    "# Open LinkedIn\n",
    "browser.get(linkedin_url)\n",
    "\n",
    "# Wait for the page to load\n",
    "browser.implicitly_wait(5)\n",
    "\n",
    "browser.find_element('id', 'username').send_keys('hackedversion852@gmail.com')\n",
    "browser.find_element('id', 'password').send_keys('a1b2d3@!')\n",
    "\n",
    "browser.find_element('xpath',\"//*[@type='submit']\").click()\n",
    "# browser.find_element_by_xpath(\"//*[@text()='Skip']\").click()\n",
    "\n",
    "# Find the search input element and enter the keyword\n",
    "search_input = browser.find_element(By.XPATH, \"//input[@role='combobox']\")\n",
    "search_input.send_keys(search_keyword)\n",
    "search_input.send_keys(Keys.ENTER)\n",
    "\n",
    "# Wait for the search results to load\n",
    "browser.implicitly_wait(15)\n",
    "\n",
    "\n",
    "browser.find_element('xpath',\"//*[@id='search-reusables__filters-bar']/ul/li/button[text()='People']\").click()\n",
    "\n",
    "try:\n",
    "    search_input = browser.find_element(By.XPATH, \"//a[@text()='See all people results']\").click()\n",
    "\n",
    "except:\n",
    "    pass\n",
    "    \n",
    "# Print the search results\n",
    "titles_list = []\n",
    "designations_list = []\n",
    "locations_list = []\n",
    "\n",
    "while True:\n",
    "    titles = browser.find_elements('xpath','//div[@class=\"entity-result\"]//a[@class=\"app-aware-link \"]//span[@aria-hidden=\"true\"]') \n",
    "    for title in titles:\n",
    "        titles_list.append(title.text)\n",
    "        \n",
    "    designations = browser.find_elements('xpath', '//div[@class=\"entity-result__primary-subtitle t-14 t-black t-normal\"]')\n",
    "    for designation in designations:\n",
    "        designations_list.append(designation.text)\n",
    "        \n",
    "    locations = browser.find_elements('xpath', '//div[@class=\"entity-result__secondary-subtitle t-14 t-normal\"]')\n",
    "    for location in locations:\n",
    "        locations_list.append(location.text)\n",
    "    \n",
    "    time.sleep(5)    \n",
    "        \n",
    "#     try:\n",
    "    next_btn = WebDriverWait(browser, 30).until(EC.element_to_be_clickable((By.XPATH, \"//button[@aria-label='Next']\")))\n",
    "    next_btn.click()\n",
    "    print(\"clickable\")\n",
    "    \n",
    "#     except TimeoutException:\n",
    "#         break\n",
    "\n",
    "\n",
    "# Close the Webbrowser\n",
    "# browser.quit()"
   ]
  },
  {
   "cell_type": "code",
   "execution_count": 51,
   "id": "432e812e",
   "metadata": {},
   "outputs": [
    {
     "name": "stdout",
     "output_type": "stream",
     "text": [
      "clickable\n"
     ]
    }
   ],
   "source": [
    "next_btn = WebDriverWait(browser, 30).until(EC.element_to_be_clickable((By.XPATH, \"//button[@aria-label='Next']\")))\n",
    "next_btn.click()\n",
    "print(\"clickable\")"
   ]
  },
  {
   "cell_type": "code",
   "execution_count": 46,
   "id": "c76fa443",
   "metadata": {},
   "outputs": [
    {
     "data": {
      "text/plain": [
       "['Nitin Gupta', 'Gulshan Dua', 'Amarpreet Singh', 'Srishti Dhir']"
      ]
     },
     "execution_count": 46,
     "metadata": {},
     "output_type": "execute_result"
    }
   ],
   "source": [
    "titles_list"
   ]
  },
  {
   "cell_type": "code",
   "execution_count": 31,
   "id": "78cf5d6c",
   "metadata": {},
   "outputs": [
    {
     "ename": "NoSuchElementException",
     "evalue": "Message: no such element: Unable to locate element: {\"method\":\"xpath\",\"selector\":\"//button[@aria-label='Next']\"}\n  (Session info: chrome=113.0.5672.64)\nStacktrace:\nBacktrace:\n\tGetHandleVerifier [0x00898893+48451]\n\t(No symbol) [0x0082B8A1]\n\t(No symbol) [0x00735058]\n\t(No symbol) [0x00760467]\n\t(No symbol) [0x0076069B]\n\t(No symbol) [0x0078DD92]\n\t(No symbol) [0x0077A304]\n\t(No symbol) [0x0078C482]\n\t(No symbol) [0x0077A0B6]\n\t(No symbol) [0x00757E08]\n\t(No symbol) [0x00758F2D]\n\tGetHandleVerifier [0x00AF8E3A+2540266]\n\tGetHandleVerifier [0x00B38959+2801161]\n\tGetHandleVerifier [0x00B3295C+2776588]\n\tGetHandleVerifier [0x00922280+612144]\n\t(No symbol) [0x00834F6C]\n\t(No symbol) [0x008311D8]\n\t(No symbol) [0x008312BB]\n\t(No symbol) [0x00824857]\n\tBaseThreadInitThunk [0x76377D69+25]\n\tRtlInitializeExceptionChain [0x772DB74B+107]\n\tRtlClearBits [0x772DB6CF+191]\n",
     "output_type": "error",
     "traceback": [
      "\u001b[1;31m---------------------------------------------------------------------------\u001b[0m",
      "\u001b[1;31mNoSuchElementException\u001b[0m                    Traceback (most recent call last)",
      "\u001b[1;32m~\\AppData\\Local\\Temp\\ipykernel_21380\\3156053392.py\u001b[0m in \u001b[0;36m<module>\u001b[1;34m\u001b[0m\n\u001b[0;32m     15\u001b[0m     \u001b[1;32mpass\u001b[0m\u001b[1;33m\u001b[0m\u001b[1;33m\u001b[0m\u001b[0m\n\u001b[0;32m     16\u001b[0m \u001b[1;33m\u001b[0m\u001b[0m\n\u001b[1;32m---> 17\u001b[1;33m \u001b[0msearch_input\u001b[0m \u001b[1;33m=\u001b[0m \u001b[0mbrowser\u001b[0m\u001b[1;33m.\u001b[0m\u001b[0mfind_element\u001b[0m\u001b[1;33m(\u001b[0m\u001b[0mBy\u001b[0m\u001b[1;33m.\u001b[0m\u001b[0mXPATH\u001b[0m\u001b[1;33m,\u001b[0m \u001b[1;34m\"//button[@aria-label='Next']\"\u001b[0m\u001b[1;33m)\u001b[0m\u001b[1;33m.\u001b[0m\u001b[0mclick\u001b[0m\u001b[1;33m(\u001b[0m\u001b[1;33m)\u001b[0m\u001b[1;33m\u001b[0m\u001b[1;33m\u001b[0m\u001b[0m\n\u001b[0m\u001b[0;32m     18\u001b[0m \u001b[1;33m\u001b[0m\u001b[0m\n\u001b[0;32m     19\u001b[0m \u001b[1;33m\u001b[0m\u001b[0m\n",
      "\u001b[1;32m~\\AppData\\Roaming\\Python\\Python39\\site-packages\\selenium\\webdriver\\remote\\webdriver.py\u001b[0m in \u001b[0;36mfind_element\u001b[1;34m(self, by, value)\u001b[0m\n\u001b[0;32m    829\u001b[0m             \u001b[0mvalue\u001b[0m \u001b[1;33m=\u001b[0m \u001b[1;34mf'[name=\"{value}\"]'\u001b[0m\u001b[1;33m\u001b[0m\u001b[1;33m\u001b[0m\u001b[0m\n\u001b[0;32m    830\u001b[0m \u001b[1;33m\u001b[0m\u001b[0m\n\u001b[1;32m--> 831\u001b[1;33m         \u001b[1;32mreturn\u001b[0m \u001b[0mself\u001b[0m\u001b[1;33m.\u001b[0m\u001b[0mexecute\u001b[0m\u001b[1;33m(\u001b[0m\u001b[0mCommand\u001b[0m\u001b[1;33m.\u001b[0m\u001b[0mFIND_ELEMENT\u001b[0m\u001b[1;33m,\u001b[0m \u001b[1;33m{\u001b[0m\u001b[1;34m\"using\"\u001b[0m\u001b[1;33m:\u001b[0m \u001b[0mby\u001b[0m\u001b[1;33m,\u001b[0m \u001b[1;34m\"value\"\u001b[0m\u001b[1;33m:\u001b[0m \u001b[0mvalue\u001b[0m\u001b[1;33m}\u001b[0m\u001b[1;33m)\u001b[0m\u001b[1;33m[\u001b[0m\u001b[1;34m\"value\"\u001b[0m\u001b[1;33m]\u001b[0m\u001b[1;33m\u001b[0m\u001b[1;33m\u001b[0m\u001b[0m\n\u001b[0m\u001b[0;32m    832\u001b[0m \u001b[1;33m\u001b[0m\u001b[0m\n\u001b[0;32m    833\u001b[0m     \u001b[1;32mdef\u001b[0m \u001b[0mfind_elements\u001b[0m\u001b[1;33m(\u001b[0m\u001b[0mself\u001b[0m\u001b[1;33m,\u001b[0m \u001b[0mby\u001b[0m\u001b[1;33m=\u001b[0m\u001b[0mBy\u001b[0m\u001b[1;33m.\u001b[0m\u001b[0mID\u001b[0m\u001b[1;33m,\u001b[0m \u001b[0mvalue\u001b[0m\u001b[1;33m:\u001b[0m \u001b[0mOptional\u001b[0m\u001b[1;33m[\u001b[0m\u001b[0mstr\u001b[0m\u001b[1;33m]\u001b[0m \u001b[1;33m=\u001b[0m \u001b[1;32mNone\u001b[0m\u001b[1;33m)\u001b[0m \u001b[1;33m->\u001b[0m \u001b[0mList\u001b[0m\u001b[1;33m[\u001b[0m\u001b[0mWebElement\u001b[0m\u001b[1;33m]\u001b[0m\u001b[1;33m:\u001b[0m\u001b[1;33m\u001b[0m\u001b[1;33m\u001b[0m\u001b[0m\n",
      "\u001b[1;32m~\\AppData\\Roaming\\Python\\Python39\\site-packages\\selenium\\webdriver\\remote\\webdriver.py\u001b[0m in \u001b[0;36mexecute\u001b[1;34m(self, driver_command, params)\u001b[0m\n\u001b[0;32m    438\u001b[0m         \u001b[0mresponse\u001b[0m \u001b[1;33m=\u001b[0m \u001b[0mself\u001b[0m\u001b[1;33m.\u001b[0m\u001b[0mcommand_executor\u001b[0m\u001b[1;33m.\u001b[0m\u001b[0mexecute\u001b[0m\u001b[1;33m(\u001b[0m\u001b[0mdriver_command\u001b[0m\u001b[1;33m,\u001b[0m \u001b[0mparams\u001b[0m\u001b[1;33m)\u001b[0m\u001b[1;33m\u001b[0m\u001b[1;33m\u001b[0m\u001b[0m\n\u001b[0;32m    439\u001b[0m         \u001b[1;32mif\u001b[0m \u001b[0mresponse\u001b[0m\u001b[1;33m:\u001b[0m\u001b[1;33m\u001b[0m\u001b[1;33m\u001b[0m\u001b[0m\n\u001b[1;32m--> 440\u001b[1;33m             \u001b[0mself\u001b[0m\u001b[1;33m.\u001b[0m\u001b[0merror_handler\u001b[0m\u001b[1;33m.\u001b[0m\u001b[0mcheck_response\u001b[0m\u001b[1;33m(\u001b[0m\u001b[0mresponse\u001b[0m\u001b[1;33m)\u001b[0m\u001b[1;33m\u001b[0m\u001b[1;33m\u001b[0m\u001b[0m\n\u001b[0m\u001b[0;32m    441\u001b[0m             \u001b[0mresponse\u001b[0m\u001b[1;33m[\u001b[0m\u001b[1;34m\"value\"\u001b[0m\u001b[1;33m]\u001b[0m \u001b[1;33m=\u001b[0m \u001b[0mself\u001b[0m\u001b[1;33m.\u001b[0m\u001b[0m_unwrap_value\u001b[0m\u001b[1;33m(\u001b[0m\u001b[0mresponse\u001b[0m\u001b[1;33m.\u001b[0m\u001b[0mget\u001b[0m\u001b[1;33m(\u001b[0m\u001b[1;34m\"value\"\u001b[0m\u001b[1;33m,\u001b[0m \u001b[1;32mNone\u001b[0m\u001b[1;33m)\u001b[0m\u001b[1;33m)\u001b[0m\u001b[1;33m\u001b[0m\u001b[1;33m\u001b[0m\u001b[0m\n\u001b[0;32m    442\u001b[0m             \u001b[1;32mreturn\u001b[0m \u001b[0mresponse\u001b[0m\u001b[1;33m\u001b[0m\u001b[1;33m\u001b[0m\u001b[0m\n",
      "\u001b[1;32m~\\AppData\\Roaming\\Python\\Python39\\site-packages\\selenium\\webdriver\\remote\\errorhandler.py\u001b[0m in \u001b[0;36mcheck_response\u001b[1;34m(self, response)\u001b[0m\n\u001b[0;32m    243\u001b[0m                 \u001b[0malert_text\u001b[0m \u001b[1;33m=\u001b[0m \u001b[0mvalue\u001b[0m\u001b[1;33m[\u001b[0m\u001b[1;34m\"alert\"\u001b[0m\u001b[1;33m]\u001b[0m\u001b[1;33m.\u001b[0m\u001b[0mget\u001b[0m\u001b[1;33m(\u001b[0m\u001b[1;34m\"text\"\u001b[0m\u001b[1;33m)\u001b[0m\u001b[1;33m\u001b[0m\u001b[1;33m\u001b[0m\u001b[0m\n\u001b[0;32m    244\u001b[0m             \u001b[1;32mraise\u001b[0m \u001b[0mexception_class\u001b[0m\u001b[1;33m(\u001b[0m\u001b[0mmessage\u001b[0m\u001b[1;33m,\u001b[0m \u001b[0mscreen\u001b[0m\u001b[1;33m,\u001b[0m \u001b[0mstacktrace\u001b[0m\u001b[1;33m,\u001b[0m \u001b[0malert_text\u001b[0m\u001b[1;33m)\u001b[0m  \u001b[1;31m# type: ignore[call-arg]  # mypy is not smart enough here\u001b[0m\u001b[1;33m\u001b[0m\u001b[1;33m\u001b[0m\u001b[0m\n\u001b[1;32m--> 245\u001b[1;33m         \u001b[1;32mraise\u001b[0m \u001b[0mexception_class\u001b[0m\u001b[1;33m(\u001b[0m\u001b[0mmessage\u001b[0m\u001b[1;33m,\u001b[0m \u001b[0mscreen\u001b[0m\u001b[1;33m,\u001b[0m \u001b[0mstacktrace\u001b[0m\u001b[1;33m)\u001b[0m\u001b[1;33m\u001b[0m\u001b[1;33m\u001b[0m\u001b[0m\n\u001b[0m",
      "\u001b[1;31mNoSuchElementException\u001b[0m: Message: no such element: Unable to locate element: {\"method\":\"xpath\",\"selector\":\"//button[@aria-label='Next']\"}\n  (Session info: chrome=113.0.5672.64)\nStacktrace:\nBacktrace:\n\tGetHandleVerifier [0x00898893+48451]\n\t(No symbol) [0x0082B8A1]\n\t(No symbol) [0x00735058]\n\t(No symbol) [0x00760467]\n\t(No symbol) [0x0076069B]\n\t(No symbol) [0x0078DD92]\n\t(No symbol) [0x0077A304]\n\t(No symbol) [0x0078C482]\n\t(No symbol) [0x0077A0B6]\n\t(No symbol) [0x00757E08]\n\t(No symbol) [0x00758F2D]\n\tGetHandleVerifier [0x00AF8E3A+2540266]\n\tGetHandleVerifier [0x00B38959+2801161]\n\tGetHandleVerifier [0x00B3295C+2776588]\n\tGetHandleVerifier [0x00922280+612144]\n\t(No symbol) [0x00834F6C]\n\t(No symbol) [0x008311D8]\n\t(No symbol) [0x008312BB]\n\t(No symbol) [0x00824857]\n\tBaseThreadInitThunk [0x76377D69+25]\n\tRtlInitializeExceptionChain [0x772DB74B+107]\n\tRtlClearBits [0x772DB6CF+191]\n"
     ]
    }
   ],
   "source": [
    "# Find the search input element and enter the keyword\n",
    "search_input = browser.find_element(By.XPATH, \"//input[@role='combobox']\")\n",
    "search_input.send_keys(search_keyword)\n",
    "search_input.send_keys(Keys.ENTER)\n",
    "\n",
    "# Wait for the search results to load\n",
    "browser.implicitly_wait(5)\n",
    "\n",
    "browser.find_element('xpath',\"//*[@id='search-reusables__filters-bar']/ul/li/button[text()='People']\").click()\n",
    "\n",
    "try:\n",
    "    search_input = browser.find_element(By.XPATH, \"//a[@text()='See all people results']\").click()\n",
    "\n",
    "except:\n",
    "    pass\n",
    "    \n",
    "# search_input = browser.find_element(By.XPATH, \"//button[@aria-label='Next']\").click()\n",
    "\n",
    "\n",
    "# Print the search results\n",
    "# search_results = browser.find_elements(By.CSS_SELECTOR, \"li.search-result\")\n",
    "# for result in search_results:\n",
    "#     title = result.find_element(By.CSS_SELECTOR, \"span.name\").text\n",
    "#     company = result.find_element(By.CSS_SELECTOR, \"p.subline-level-1\").text\n",
    "#     location = result.find_element(By.CSS_SELECTOR, \"p.subline-level-2\").text\n",
    "#     print(f\"Title: {title}\\nCompany: {company}\\nLocation: {location}\\n\")\n"
   ]
  },
  {
   "cell_type": "code",
   "execution_count": 44,
   "id": "e17d900a",
   "metadata": {},
   "outputs": [],
   "source": [
    "\n",
    "browser.close()"
   ]
  },
  {
   "cell_type": "code",
   "execution_count": 34,
   "id": "612b4a87",
   "metadata": {},
   "outputs": [],
   "source": [
    "\n"
   ]
  },
  {
   "cell_type": "code",
   "execution_count": null,
   "id": "e292b73d",
   "metadata": {},
   "outputs": [],
   "source": []
  },
  {
   "cell_type": "code",
   "execution_count": null,
   "id": "5b046c9e",
   "metadata": {},
   "outputs": [],
   "source": [
    "\n",
    "titles_list = []\n",
    "designations_list = []\n",
    "locations_list = []\n",
    "\n",
    "while True:\n",
    "    titles = browser.find_elements('xpath','//div[@class=\"entity-result\"]//a[@class=\"app-aware-link \"]//span[@aria-hidden=\"true\"]') \n",
    "    for title in titles:\n",
    "        titles_list.append(title.text)\n",
    "        \n",
    "    designations = browser.find_elements('xpath', '//div[@class=\"entity-result__primary-subtitle t-14 t-black t-normal\"]')\n",
    "    for designation in designations:\n",
    "        designations_list.append(designation.text)\n",
    "        \n",
    "    locations = browser.find_elements('xpath', '//div[@class=\"entity-result__secondary-subtitle t-14 t-normal\"]')\n",
    "    for location in locations:\n",
    "        locations_list.append(location.text)\n",
    "        \n",
    "    try:\n",
    "        next_btn = WebDriverWait(browser, 30).until(EC.element_to_be_clickable((By.XPATH, \"//button[@aria-label='Next']\"))\n",
    "        next_btn.click()\n",
    "        print(\"clickable\")\n",
    "    except TimeoutException:\n",
    "        break\n",
    "    \n",
    "        "
   ]
  },
  {
   "cell_type": "code",
   "execution_count": 53,
   "id": "ef5e9f7d",
   "metadata": {},
   "outputs": [
    {
     "ename": "NoSuchElementException",
     "evalue": "Message: no such element: Unable to locate element: {\"method\":\"xpath\",\"selector\":\"//button[contains(text(), 'People')]\"}\n  (Session info: chrome=113.0.5672.64)\nStacktrace:\nBacktrace:\n\tGetHandleVerifier [0x00898893+48451]\n\t(No symbol) [0x0082B8A1]\n\t(No symbol) [0x00735058]\n\t(No symbol) [0x00760467]\n\t(No symbol) [0x0076069B]\n\t(No symbol) [0x0078DD92]\n\t(No symbol) [0x0077A304]\n\t(No symbol) [0x0078C482]\n\t(No symbol) [0x0077A0B6]\n\t(No symbol) [0x00757E08]\n\t(No symbol) [0x00758F2D]\n\tGetHandleVerifier [0x00AF8E3A+2540266]\n\tGetHandleVerifier [0x00B38959+2801161]\n\tGetHandleVerifier [0x00B3295C+2776588]\n\tGetHandleVerifier [0x00922280+612144]\n\t(No symbol) [0x00834F6C]\n\t(No symbol) [0x008311D8]\n\t(No symbol) [0x008312BB]\n\t(No symbol) [0x00824857]\n\tBaseThreadInitThunk [0x76377D69+25]\n\tRtlInitializeExceptionChain [0x772DB74B+107]\n\tRtlClearBits [0x772DB6CF+191]\n",
     "output_type": "error",
     "traceback": [
      "\u001b[1;31m---------------------------------------------------------------------------\u001b[0m",
      "\u001b[1;31mNoSuchElementException\u001b[0m                    Traceback (most recent call last)",
      "\u001b[1;32m~\\AppData\\Local\\Temp\\ipykernel_21380\\2582921983.py\u001b[0m in \u001b[0;36m<module>\u001b[1;34m\u001b[0m\n\u001b[0;32m     43\u001b[0m \u001b[1;33m\u001b[0m\u001b[0m\n\u001b[0;32m     44\u001b[0m \u001b[1;31m# Click on the \"People\" filter button\u001b[0m\u001b[1;33m\u001b[0m\u001b[1;33m\u001b[0m\u001b[0m\n\u001b[1;32m---> 45\u001b[1;33m \u001b[0mpeople_filter_button\u001b[0m \u001b[1;33m=\u001b[0m \u001b[0mbrowser\u001b[0m\u001b[1;33m.\u001b[0m\u001b[0mfind_element\u001b[0m\u001b[1;33m(\u001b[0m\u001b[0mBy\u001b[0m\u001b[1;33m.\u001b[0m\u001b[0mXPATH\u001b[0m\u001b[1;33m,\u001b[0m \u001b[1;34m\"//button[contains(text(), 'People')]\"\u001b[0m\u001b[1;33m)\u001b[0m\u001b[1;33m\u001b[0m\u001b[1;33m\u001b[0m\u001b[0m\n\u001b[0m\u001b[0;32m     46\u001b[0m \u001b[0mpeople_filter_button\u001b[0m\u001b[1;33m.\u001b[0m\u001b[0mclick\u001b[0m\u001b[1;33m(\u001b[0m\u001b[1;33m)\u001b[0m\u001b[1;33m\u001b[0m\u001b[1;33m\u001b[0m\u001b[0m\n\u001b[0;32m     47\u001b[0m \u001b[1;33m\u001b[0m\u001b[0m\n",
      "\u001b[1;32m~\\AppData\\Roaming\\Python\\Python39\\site-packages\\selenium\\webdriver\\remote\\webdriver.py\u001b[0m in \u001b[0;36mfind_element\u001b[1;34m(self, by, value)\u001b[0m\n\u001b[0;32m    829\u001b[0m             \u001b[0mvalue\u001b[0m \u001b[1;33m=\u001b[0m \u001b[1;34mf'[name=\"{value}\"]'\u001b[0m\u001b[1;33m\u001b[0m\u001b[1;33m\u001b[0m\u001b[0m\n\u001b[0;32m    830\u001b[0m \u001b[1;33m\u001b[0m\u001b[0m\n\u001b[1;32m--> 831\u001b[1;33m         \u001b[1;32mreturn\u001b[0m \u001b[0mself\u001b[0m\u001b[1;33m.\u001b[0m\u001b[0mexecute\u001b[0m\u001b[1;33m(\u001b[0m\u001b[0mCommand\u001b[0m\u001b[1;33m.\u001b[0m\u001b[0mFIND_ELEMENT\u001b[0m\u001b[1;33m,\u001b[0m \u001b[1;33m{\u001b[0m\u001b[1;34m\"using\"\u001b[0m\u001b[1;33m:\u001b[0m \u001b[0mby\u001b[0m\u001b[1;33m,\u001b[0m \u001b[1;34m\"value\"\u001b[0m\u001b[1;33m:\u001b[0m \u001b[0mvalue\u001b[0m\u001b[1;33m}\u001b[0m\u001b[1;33m)\u001b[0m\u001b[1;33m[\u001b[0m\u001b[1;34m\"value\"\u001b[0m\u001b[1;33m]\u001b[0m\u001b[1;33m\u001b[0m\u001b[1;33m\u001b[0m\u001b[0m\n\u001b[0m\u001b[0;32m    832\u001b[0m \u001b[1;33m\u001b[0m\u001b[0m\n\u001b[0;32m    833\u001b[0m     \u001b[1;32mdef\u001b[0m \u001b[0mfind_elements\u001b[0m\u001b[1;33m(\u001b[0m\u001b[0mself\u001b[0m\u001b[1;33m,\u001b[0m \u001b[0mby\u001b[0m\u001b[1;33m=\u001b[0m\u001b[0mBy\u001b[0m\u001b[1;33m.\u001b[0m\u001b[0mID\u001b[0m\u001b[1;33m,\u001b[0m \u001b[0mvalue\u001b[0m\u001b[1;33m:\u001b[0m \u001b[0mOptional\u001b[0m\u001b[1;33m[\u001b[0m\u001b[0mstr\u001b[0m\u001b[1;33m]\u001b[0m \u001b[1;33m=\u001b[0m \u001b[1;32mNone\u001b[0m\u001b[1;33m)\u001b[0m \u001b[1;33m->\u001b[0m \u001b[0mList\u001b[0m\u001b[1;33m[\u001b[0m\u001b[0mWebElement\u001b[0m\u001b[1;33m]\u001b[0m\u001b[1;33m:\u001b[0m\u001b[1;33m\u001b[0m\u001b[1;33m\u001b[0m\u001b[0m\n",
      "\u001b[1;32m~\\AppData\\Roaming\\Python\\Python39\\site-packages\\selenium\\webdriver\\remote\\webdriver.py\u001b[0m in \u001b[0;36mexecute\u001b[1;34m(self, driver_command, params)\u001b[0m\n\u001b[0;32m    438\u001b[0m         \u001b[0mresponse\u001b[0m \u001b[1;33m=\u001b[0m \u001b[0mself\u001b[0m\u001b[1;33m.\u001b[0m\u001b[0mcommand_executor\u001b[0m\u001b[1;33m.\u001b[0m\u001b[0mexecute\u001b[0m\u001b[1;33m(\u001b[0m\u001b[0mdriver_command\u001b[0m\u001b[1;33m,\u001b[0m \u001b[0mparams\u001b[0m\u001b[1;33m)\u001b[0m\u001b[1;33m\u001b[0m\u001b[1;33m\u001b[0m\u001b[0m\n\u001b[0;32m    439\u001b[0m         \u001b[1;32mif\u001b[0m \u001b[0mresponse\u001b[0m\u001b[1;33m:\u001b[0m\u001b[1;33m\u001b[0m\u001b[1;33m\u001b[0m\u001b[0m\n\u001b[1;32m--> 440\u001b[1;33m             \u001b[0mself\u001b[0m\u001b[1;33m.\u001b[0m\u001b[0merror_handler\u001b[0m\u001b[1;33m.\u001b[0m\u001b[0mcheck_response\u001b[0m\u001b[1;33m(\u001b[0m\u001b[0mresponse\u001b[0m\u001b[1;33m)\u001b[0m\u001b[1;33m\u001b[0m\u001b[1;33m\u001b[0m\u001b[0m\n\u001b[0m\u001b[0;32m    441\u001b[0m             \u001b[0mresponse\u001b[0m\u001b[1;33m[\u001b[0m\u001b[1;34m\"value\"\u001b[0m\u001b[1;33m]\u001b[0m \u001b[1;33m=\u001b[0m \u001b[0mself\u001b[0m\u001b[1;33m.\u001b[0m\u001b[0m_unwrap_value\u001b[0m\u001b[1;33m(\u001b[0m\u001b[0mresponse\u001b[0m\u001b[1;33m.\u001b[0m\u001b[0mget\u001b[0m\u001b[1;33m(\u001b[0m\u001b[1;34m\"value\"\u001b[0m\u001b[1;33m,\u001b[0m \u001b[1;32mNone\u001b[0m\u001b[1;33m)\u001b[0m\u001b[1;33m)\u001b[0m\u001b[1;33m\u001b[0m\u001b[1;33m\u001b[0m\u001b[0m\n\u001b[0;32m    442\u001b[0m             \u001b[1;32mreturn\u001b[0m \u001b[0mresponse\u001b[0m\u001b[1;33m\u001b[0m\u001b[1;33m\u001b[0m\u001b[0m\n",
      "\u001b[1;32m~\\AppData\\Roaming\\Python\\Python39\\site-packages\\selenium\\webdriver\\remote\\errorhandler.py\u001b[0m in \u001b[0;36mcheck_response\u001b[1;34m(self, response)\u001b[0m\n\u001b[0;32m    243\u001b[0m                 \u001b[0malert_text\u001b[0m \u001b[1;33m=\u001b[0m \u001b[0mvalue\u001b[0m\u001b[1;33m[\u001b[0m\u001b[1;34m\"alert\"\u001b[0m\u001b[1;33m]\u001b[0m\u001b[1;33m.\u001b[0m\u001b[0mget\u001b[0m\u001b[1;33m(\u001b[0m\u001b[1;34m\"text\"\u001b[0m\u001b[1;33m)\u001b[0m\u001b[1;33m\u001b[0m\u001b[1;33m\u001b[0m\u001b[0m\n\u001b[0;32m    244\u001b[0m             \u001b[1;32mraise\u001b[0m \u001b[0mexception_class\u001b[0m\u001b[1;33m(\u001b[0m\u001b[0mmessage\u001b[0m\u001b[1;33m,\u001b[0m \u001b[0mscreen\u001b[0m\u001b[1;33m,\u001b[0m \u001b[0mstacktrace\u001b[0m\u001b[1;33m,\u001b[0m \u001b[0malert_text\u001b[0m\u001b[1;33m)\u001b[0m  \u001b[1;31m# type: ignore[call-arg]  # mypy is not smart enough here\u001b[0m\u001b[1;33m\u001b[0m\u001b[1;33m\u001b[0m\u001b[0m\n\u001b[1;32m--> 245\u001b[1;33m         \u001b[1;32mraise\u001b[0m \u001b[0mexception_class\u001b[0m\u001b[1;33m(\u001b[0m\u001b[0mmessage\u001b[0m\u001b[1;33m,\u001b[0m \u001b[0mscreen\u001b[0m\u001b[1;33m,\u001b[0m \u001b[0mstacktrace\u001b[0m\u001b[1;33m)\u001b[0m\u001b[1;33m\u001b[0m\u001b[1;33m\u001b[0m\u001b[0m\n\u001b[0m",
      "\u001b[1;31mNoSuchElementException\u001b[0m: Message: no such element: Unable to locate element: {\"method\":\"xpath\",\"selector\":\"//button[contains(text(), 'People')]\"}\n  (Session info: chrome=113.0.5672.64)\nStacktrace:\nBacktrace:\n\tGetHandleVerifier [0x00898893+48451]\n\t(No symbol) [0x0082B8A1]\n\t(No symbol) [0x00735058]\n\t(No symbol) [0x00760467]\n\t(No symbol) [0x0076069B]\n\t(No symbol) [0x0078DD92]\n\t(No symbol) [0x0077A304]\n\t(No symbol) [0x0078C482]\n\t(No symbol) [0x0077A0B6]\n\t(No symbol) [0x00757E08]\n\t(No symbol) [0x00758F2D]\n\tGetHandleVerifier [0x00AF8E3A+2540266]\n\tGetHandleVerifier [0x00B38959+2801161]\n\tGetHandleVerifier [0x00B3295C+2776588]\n\tGetHandleVerifier [0x00922280+612144]\n\t(No symbol) [0x00834F6C]\n\t(No symbol) [0x008311D8]\n\t(No symbol) [0x008312BB]\n\t(No symbol) [0x00824857]\n\tBaseThreadInitThunk [0x76377D69+25]\n\tRtlInitializeExceptionChain [0x772DB74B+107]\n\tRtlClearBits [0x772DB6CF+191]\n"
     ]
    }
   ],
   "source": [
    "from selenium import webdriver\n",
    "from selenium.webdriver.common.keys import Keys\n",
    "from selenium.webdriver.common.by import By\n",
    "from selenium.webdriver.support.ui import WebDriverWait\n",
    "from selenium.webdriver.support import expected_conditions as EC\n",
    "\n",
    "# Set the LinkedIn URL\n",
    "linkedin_url = \"https://www.linkedin.com/login\"\n",
    "\n",
    "# Set the search keyword\n",
    "search_keyword = \"CFO\"\n",
    "\n",
    "# Initialize the Webbrowser\n",
    "browser = webdriver.Chrome()  # Change to the appropriate browser if using a different browser\n",
    "\n",
    "# Open LinkedIn\n",
    "browser.get(linkedin_url)\n",
    "\n",
    "# Wait for the page to load\n",
    "browser.implicitly_wait(5)\n",
    "\n",
    "# Find the username and password input fields, and enter your login credentials\n",
    "username_input = browser.find_element(By.ID, \"username\")\n",
    "username_input.send_keys(\"hackedversion852@gmail.com\")\n",
    "\n",
    "password_input = browser.find_element(By.ID, \"password\")\n",
    "password_input.send_keys(\"a1b2d3@!\")\n",
    "\n",
    "# Submit the login form\n",
    "login_button = browser.find_element(By.XPATH, \"//button[@type='submit']\")\n",
    "login_button.click()\n",
    "\n",
    "# Wait for the login to complete and the home page to load\n",
    "WebDriverWait(browser, 10).until(EC.url_contains(\"https://www.linkedin.com/feed/\"))\n",
    "\n",
    "# Find the search input element and enter the keyword\n",
    "search_input = browser.find_element(By.XPATH, \"//input[contains(@aria-label, 'Search')]\")\n",
    "search_input.send_keys(search_keyword)\n",
    "search_input.send_keys(Keys.ENTER)\n",
    "\n",
    "# Wait for the search results page to load\n",
    "WebDriverWait(browser, 10).until(EC.url_contains(\"https://www.linkedin.com/search/results/\"))\n",
    "\n",
    "# Click on the \"People\" filter button\n",
    "people_filter_button = browser.find_element(By.XPATH, \"//button[contains(text(), 'People')]\")\n",
    "people_filter_button.click()\n",
    "\n",
    "# Wait for the people search results to load\n",
    "WebDriverWait(browser, 10).until(EC.url_contains(\"https://www.linkedin.com/search/results/people/\"))\n",
    "\n",
    "# Print the search results\n",
    "while True:\n",
    "    titles = browser.find_elements(By.XPATH, \"//span[@aria-hidden='true']\")\n",
    "    titles_list = [title.text for title in titles]\n",
    "\n",
    "    designations = browser.find_elements(By.XPATH, \"//div[contains(@class, 'entity-result__primary-subtitle')]\")\n",
    "    designations_list = [designation.text for designation in designations]\n",
    "\n",
    "    locations = browser.find_elements(By.XPATH, \"//div[contains(@class, 'entity-result__secondary-subtitle')]\")\n",
    "    locations_list = [location.text for location in locations]\n",
    "\n",
    "    print(\"Titles:\", titles_list)\n",
    "    print(\"Designations:\", designations_list)\n",
    "    print(\"Locations:\", locations_list)\n",
    "    print(\"------------------------\")\n",
    "\n",
    "    try:\n",
    "        next_button = browser.find_element(By.XPATH, \"//button[@aria-label='Next']\")\n",
    "        if \"disabled\" in next_button.get_attribute(\"class\"):\n",
    "            break  # No more pages to navigate, exit the loop\n",
    "        else:\n",
    "            next_button.click()\n",
    "    except:\n",
    "        break  # No next button found, exit the loop\n",
    "\n",
    "# Close the Webbrowser\n",
    "browser.quit()\n"
   ]
  },
  {
   "cell_type": "code",
   "execution_count": null,
   "id": "eb8aa5e8",
   "metadata": {},
   "outputs": [],
   "source": []
  }
 ],
 "metadata": {
  "kernelspec": {
   "display_name": "Python 3 (ipykernel)",
   "language": "python",
   "name": "python3"
  },
  "language_info": {
   "codemirror_mode": {
    "name": "ipython",
    "version": 3
   },
   "file_extension": ".py",
   "mimetype": "text/x-python",
   "name": "python",
   "nbconvert_exporter": "python",
   "pygments_lexer": "ipython3",
   "version": "3.9.13"
  }
 },
 "nbformat": 4,
 "nbformat_minor": 5
}
